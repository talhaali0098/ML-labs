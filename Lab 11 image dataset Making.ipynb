{
 "cells": [
  {
   "cell_type": "markdown",
   "id": "0e13e130",
   "metadata": {},
   "source": [
    "# Lab Task 1:\n",
    "\n",
    "Select only two categories:\n",
    "\n",
    "### Category 1: Healthy\n",
    "\n",
    "Use 120 images for training, 30 images for validation, and 12 images for testing.\n",
    "\n",
    "### Category 2: Unhealthy (combine the other three classes)\n",
    "\n",
    "From each of the three remaining classes, select:\n",
    "\n",
    "40 images for training,\n",
    "\n",
    "10 images for validation,\n",
    "\n",
    "4 images for testing.\n"
   ]
  },
  {
   "cell_type": "markdown",
   "id": "af3dd525",
   "metadata": {},
   "source": [
    "# Lab Task for lab practice:\n",
    "\n",
    "### Select two difficult classes:\n",
    "\n",
    "##### Class 1: Cercospora\n",
    "\n",
    "Use 120 images for training, 30 images for validation, and 10 images for testing.\n",
    "\n",
    "##### Class 2: Northern Leaf Blight\n",
    "\n",
    "Use 120 images for training, 30 images for validation, and 10 images for testing."
   ]
  },
  {
   "cell_type": "code",
   "execution_count": null,
   "id": "35013486",
   "metadata": {},
   "outputs": [],
   "source": [
    "import os, shutil\n",
    "original_dataset_dir = r'C:\\Users\\Administrator\\Downloads\\ML Lab\\plantvillage dataset\\color'\n",
    "base_dir = r'C:\\Users\\Administrator\\Downloads\\ML Lab\\Computer vision\\sectionB'"
   ]
  },
  {
   "cell_type": "code",
   "execution_count": 5,
   "id": "a78d7af6",
   "metadata": {},
   "outputs": [
    {
     "data": {
      "text/plain": [
       "'C:\\\\Users\\\\Administrator\\\\Downloads\\\\ML Lab\\\\Computer vision\\\\sectionB'"
      ]
     },
     "execution_count": 5,
     "metadata": {},
     "output_type": "execute_result"
    }
   ],
   "source": [
    "base_dir"
   ]
  },
  {
   "cell_type": "code",
   "execution_count": 6,
   "id": "e9ace021",
   "metadata": {},
   "outputs": [
    {
     "data": {
      "text/plain": [
       "'C:\\\\Users\\\\Administrator\\\\Downloads\\\\ML Lab\\\\Computer vision\\\\sectionB\\\\train'"
      ]
     },
     "execution_count": 6,
     "metadata": {},
     "output_type": "execute_result"
    }
   ],
   "source": [
    "os.path.join(base_dir, 'train')"
   ]
  },
  {
   "cell_type": "code",
   "execution_count": 7,
   "id": "2e3eeba7",
   "metadata": {},
   "outputs": [],
   "source": [
    "os.mkdir(base_dir)\n",
    "train_dir = os.path.join(base_dir, 'train')\n",
    "os.mkdir(train_dir)\n",
    "validation_dir = os.path.join(base_dir, 'validation')\n",
    "os.mkdir(validation_dir)\n",
    "test_dir = os.path.join(base_dir, 'test')\n",
    "os.mkdir(test_dir)"
   ]
  },
  {
   "cell_type": "code",
   "execution_count": 8,
   "id": "dd5dcf0e",
   "metadata": {},
   "outputs": [],
   "source": [
    "train_healthy_dir = os.path.join(train_dir, 'healthy')\n",
    "os.mkdir(train_healthy_dir)\n",
    "train_Cercospora_dir = os.path.join(train_dir, 'Cercospora')\n",
    "os.mkdir(train_Cercospora_dir)\n",
    "train_common_rust_dir = os.path.join(train_dir, 'common_rust')\n",
    "os.mkdir(train_common_rust_dir)\n",
    "train_northern_leaf_blight_dir = os.path.join(train_dir, 'northern_leaf_blight')\n",
    "os.mkdir(train_northern_leaf_blight_dir)\n",
    "\n",
    "validation_healthy_dir = os.path.join(validation_dir, 'healthy')\n",
    "os.mkdir(validation_healthy_dir)\n",
    "validation_Cercospora_dir = os.path.join(validation_dir, 'Cercospora')\n",
    "os.mkdir(validation_Cercospora_dir)\n",
    "validation_common_rust_dir = os.path.join(validation_dir, 'common_rust')\n",
    "os.mkdir(validation_common_rust_dir)\n",
    "validation_northern_leaf_blight_dir = os.path.join(validation_dir, 'northern_leaf_blight')\n",
    "os.mkdir(validation_northern_leaf_blight_dir)\n",
    "\n",
    "test_healthy_dir = os.path.join(test_dir, 'healthy')\n",
    "os.mkdir(test_healthy_dir)\n",
    "test_Cercospora_dir = os.path.join(test_dir, 'Cercospora')\n",
    "os.mkdir(test_Cercospora_dir)\n",
    "test_common_rust_dir = os.path.join(test_dir, 'common_rust')\n",
    "os.mkdir(test_common_rust_dir)\n",
    "test_northern_leaf_blight_dir = os.path.join(test_dir, 'northern_leaf_blight')\n",
    "os.mkdir(test_northern_leaf_blight_dir)"
   ]
  },
  {
   "cell_type": "code",
   "execution_count": null,
   "id": "8873af65",
   "metadata": {},
   "outputs": [],
   "source": [
    "src_healthy_path = os.path.join(original_dataset_dir, 'Corn_(maize)___healthy')\n",
    "src_list = os.listdir(src_healthy_path)\n",
    "fnames = ['healthy.{}.jpg'.format(i) for i in range(400)]\n",
    "for i in range(400):\n",
    "    src = os.path.join(src_healthy_path, src_list[i])\n",
    "    dst = os.path.join(train_healthy_dir, fnames[i])\n",
    "    shutil.copyfile(src, dst)"
   ]
  },
  {
   "cell_type": "code",
   "execution_count": 17,
   "id": "c55e457b",
   "metadata": {},
   "outputs": [],
   "source": [
    "src_healthy_path = os.path.join(original_dataset_dir, 'Corn_(maize)___healthy')\n",
    "src_list = os.listdir(src_healthy_path)\n",
    "fnames = ['healthy.{}.jpg'.format(i) for i in range(400)]\n",
    "for i in range(400):\n",
    "    src = os.path.join(src_healthy_path, src_list[i])\n",
    "    dst = os.path.join(train_healthy_dir, fnames[i])\n",
    "    shutil.copyfile(src, dst)\n",
    "\n",
    "src_Cercospora_path = os.path.join(original_dataset_dir, 'Corn_(maize)___Cercospora_leaf_spot Gray_leaf_spot')\n",
    "src_list = os.listdir(src_Cercospora_path)\n",
    "fnames = ['Cercospora.{}.jpg'.format(i) for i in range(400)]\n",
    "for i in range(400):\n",
    "    src = os.path.join(src_Cercospora_path, src_list[i])\n",
    "    dst = os.path.join(train_Cercospora_dir, fnames[i])\n",
    "    shutil.copyfile(src, dst)\n",
    "\n",
    "src_Common_rust_path = os.path.join(original_dataset_dir, 'Corn_(maize)___Common_rust_')\n",
    "src_list = os.listdir(src_Common_rust_path)\n",
    "fnames = ['common_rust.{}.jpg'.format(i) for i in range(400)]\n",
    "for i in range(400):\n",
    "    src = os.path.join(src_Common_rust_path, src_list[i])\n",
    "    dst = os.path.join(train_common_rust_dir, fnames[i])\n",
    "    shutil.copyfile(src, dst)\n",
    "\n",
    "src_Northern_Leaf_Blight_path = os.path.join(original_dataset_dir, 'Corn_(maize)___Northern_Leaf_Blight')\n",
    "src_list = os.listdir(src_Northern_Leaf_Blight_path)\n",
    "fnames = ['Northern_Leaf_Blight.{}.jpg'.format(i) for i in range(400)]\n",
    "for i in range(400):\n",
    "    src = os.path.join(src_Northern_Leaf_Blight_path, src_list[i])\n",
    "    dst = os.path.join(train_northern_leaf_blight_dir, fnames[i])\n",
    "    shutil.copyfile(src, dst)"
   ]
  },
  {
   "cell_type": "code",
   "execution_count": 18,
   "id": "b05340b4",
   "metadata": {},
   "outputs": [],
   "source": [
    "src_healthy_path = os.path.join(original_dataset_dir, 'Corn_(maize)___healthy')\n",
    "src_list = os.listdir(src_healthy_path)\n",
    "fnames = ['healthy.{}.jpg'.format(i) for i in range(63)]\n",
    "for i in range(400,463):\n",
    "    src = os.path.join(src_healthy_path, src_list[i])\n",
    "    dst = os.path.join(validation_healthy_dir, fnames[i-400])\n",
    "    shutil.copyfile(src, dst)\n",
    "\n",
    "src_Cercospora_path = os.path.join(original_dataset_dir, 'Corn_(maize)___Cercospora_leaf_spot Gray_leaf_spot')\n",
    "src_list = os.listdir(src_Cercospora_path)\n",
    "fnames = ['Cercospora.{}.jpg'.format(i) for i in range(63)]\n",
    "for i in range(400,463):\n",
    "    src = os.path.join(src_Cercospora_path, src_list[i])\n",
    "    dst = os.path.join(validation_Cercospora_dir, fnames[i-400])\n",
    "    shutil.copyfile(src, dst)\n",
    "\n",
    "src_Common_rust_path = os.path.join(original_dataset_dir, 'Corn_(maize)___Common_rust_')\n",
    "src_list = os.listdir(src_Common_rust_path)\n",
    "fnames = ['common_rust.{}.jpg'.format(i) for i in range(63)]\n",
    "for i in range(400,463):\n",
    "    src = os.path.join(src_Common_rust_path, src_list[i])\n",
    "    dst = os.path.join(validation_common_rust_dir, fnames[i-400])\n",
    "    shutil.copyfile(src, dst)\n",
    "\n",
    "src_Northern_Leaf_Blight_path = os.path.join(original_dataset_dir, 'Corn_(maize)___Northern_Leaf_Blight')\n",
    "src_list = os.listdir(src_Northern_Leaf_Blight_path)\n",
    "fnames = ['Northern_Leaf_Blight.{}.jpg'.format(i) for i in range(63)]\n",
    "for i in range(400,463):\n",
    "    src = os.path.join(src_Northern_Leaf_Blight_path, src_list[i])\n",
    "    dst = os.path.join(validation_northern_leaf_blight_dir, fnames[i-400])\n",
    "    shutil.copyfile(src, dst)"
   ]
  },
  {
   "cell_type": "markdown",
   "id": "cfbc7b6d",
   "metadata": {},
   "source": [
    "# Test"
   ]
  },
  {
   "cell_type": "code",
   "execution_count": 19,
   "id": "4c760399",
   "metadata": {},
   "outputs": [],
   "source": [
    "src_healthy_path = os.path.join(original_dataset_dir, 'Corn_(maize)___healthy')\n",
    "src_list = os.listdir(src_healthy_path)\n",
    "fnames = ['healthy.{}.jpg'.format(i) for i in range(50)]\n",
    "for i in range(463,513):\n",
    "    src = os.path.join(src_healthy_path, src_list[i])\n",
    "    dst = os.path.join(test_healthy_dir, fnames[i-463])\n",
    "    shutil.copyfile(src, dst)\n",
    "\n",
    "src_Cercospora_path = os.path.join(original_dataset_dir, 'Corn_(maize)___Cercospora_leaf_spot Gray_leaf_spot')\n",
    "src_list = os.listdir(src_Cercospora_path)\n",
    "fnames = ['Cercospora.{}.jpg'.format(i) for i in range(50)]\n",
    "for i in range(463,513):\n",
    "    src = os.path.join(src_Cercospora_path, src_list[i])\n",
    "    dst = os.path.join(test_Cercospora_dir, fnames[i-463])\n",
    "    shutil.copyfile(src, dst)\n",
    "\n",
    "src_Common_rust_path = os.path.join(original_dataset_dir, 'Corn_(maize)___Common_rust_')\n",
    "src_list = os.listdir(src_Common_rust_path)\n",
    "fnames = ['common_rust.{}.jpg'.format(i) for i in range(50)]\n",
    "for i in range(463,513):\n",
    "    src = os.path.join(src_Common_rust_path, src_list[i])\n",
    "    dst = os.path.join(test_common_rust_dir, fnames[i-463])\n",
    "    shutil.copyfile(src, dst)\n",
    "\n",
    "src_Northern_Leaf_Blight_path = os.path.join(original_dataset_dir, 'Corn_(maize)___Northern_Leaf_Blight')\n",
    "src_list = os.listdir(src_Northern_Leaf_Blight_path)\n",
    "fnames = ['Northern_Leaf_Blight.{}.jpg'.format(i) for i in range(50)]\n",
    "for i in range(463,513):\n",
    "    src = os.path.join(src_Northern_Leaf_Blight_path, src_list[i])\n",
    "    dst = os.path.join(test_northern_leaf_blight_dir, fnames[i-463])\n",
    "    shutil.copyfile(src, dst)"
   ]
  },
  {
   "cell_type": "code",
   "execution_count": null,
   "id": "7d0e35f2",
   "metadata": {},
   "outputs": [],
   "source": []
  }
 ],
 "metadata": {
  "kernelspec": {
   "display_name": "Python 3 (ipykernel)",
   "language": "python",
   "name": "python3"
  },
  "language_info": {
   "codemirror_mode": {
    "name": "ipython",
    "version": 3
   },
   "file_extension": ".py",
   "mimetype": "text/x-python",
   "name": "python",
   "nbconvert_exporter": "python",
   "pygments_lexer": "ipython3",
   "version": "3.12.4"
  }
 },
 "nbformat": 4,
 "nbformat_minor": 5
}
