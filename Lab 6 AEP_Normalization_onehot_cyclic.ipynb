{
 "cells": [
  {
   "cell_type": "code",
   "execution_count": 1,
   "id": "52423698",
   "metadata": {
    "scrolled": true
   },
   "outputs": [],
   "source": [
    "import numpy as np\n",
    "import pandas as pd\n",
    "from pandas import read_csv\n",
    "import pickle\n",
    "from sklearn.preprocessing import MinMaxScaler, StandardScaler\n",
    "from sklearn.preprocessing import OneHotEncoder\n",
    "import sys\n",
    "sys.path.append(r\"C:\\Users\\PMLS\\Downloads\\ML Lab Spring 25\\timeseires\")\n",
    "from timeseires.utils import t_v_t_split as sp"
   ]
  },
  {
   "cell_type": "code",
   "execution_count": null,
   "id": "a4db5ddf",
   "metadata": {},
   "outputs": [
    {
     "data": {
      "text/html": [
       "<div>\n",
       "<style scoped>\n",
       "    .dataframe tbody tr th:only-of-type {\n",
       "        vertical-align: middle;\n",
       "    }\n",
       "\n",
       "    .dataframe tbody tr th {\n",
       "        vertical-align: top;\n",
       "    }\n",
       "\n",
       "    .dataframe thead th {\n",
       "        text-align: right;\n",
       "    }\n",
       "</style>\n",
       "<table border=\"1\" class=\"dataframe\">\n",
       "  <thead>\n",
       "    <tr style=\"text-align: right;\">\n",
       "      <th></th>\n",
       "      <th>aep</th>\n",
       "      <th>year_day</th>\n",
       "      <th>holiday</th>\n",
       "      <th>weekend</th>\n",
       "      <th>winter</th>\n",
       "      <th>spring</th>\n",
       "      <th>summer</th>\n",
       "      <th>fall</th>\n",
       "      <th>hour</th>\n",
       "      <th>month</th>\n",
       "      <th>day_of_week</th>\n",
       "    </tr>\n",
       "    <tr>\n",
       "      <th>Datetime</th>\n",
       "      <th></th>\n",
       "      <th></th>\n",
       "      <th></th>\n",
       "      <th></th>\n",
       "      <th></th>\n",
       "      <th></th>\n",
       "      <th></th>\n",
       "      <th></th>\n",
       "      <th></th>\n",
       "      <th></th>\n",
       "      <th></th>\n",
       "    </tr>\n",
       "  </thead>\n",
       "  <tbody>\n",
       "    <tr>\n",
       "      <th>2004-10-01 01:00:00</th>\n",
       "      <td>12379.0</td>\n",
       "      <td>275</td>\n",
       "      <td>0</td>\n",
       "      <td>0</td>\n",
       "      <td>0</td>\n",
       "      <td>0</td>\n",
       "      <td>0</td>\n",
       "      <td>1</td>\n",
       "      <td>1</td>\n",
       "      <td>10</td>\n",
       "      <td>4</td>\n",
       "    </tr>\n",
       "    <tr>\n",
       "      <th>2004-10-01 02:00:00</th>\n",
       "      <td>11935.0</td>\n",
       "      <td>275</td>\n",
       "      <td>0</td>\n",
       "      <td>0</td>\n",
       "      <td>0</td>\n",
       "      <td>0</td>\n",
       "      <td>0</td>\n",
       "      <td>1</td>\n",
       "      <td>2</td>\n",
       "      <td>10</td>\n",
       "      <td>4</td>\n",
       "    </tr>\n",
       "    <tr>\n",
       "      <th>2004-10-01 03:00:00</th>\n",
       "      <td>11692.0</td>\n",
       "      <td>275</td>\n",
       "      <td>0</td>\n",
       "      <td>0</td>\n",
       "      <td>0</td>\n",
       "      <td>0</td>\n",
       "      <td>0</td>\n",
       "      <td>1</td>\n",
       "      <td>3</td>\n",
       "      <td>10</td>\n",
       "      <td>4</td>\n",
       "    </tr>\n",
       "    <tr>\n",
       "      <th>2004-10-01 04:00:00</th>\n",
       "      <td>11597.0</td>\n",
       "      <td>275</td>\n",
       "      <td>0</td>\n",
       "      <td>0</td>\n",
       "      <td>0</td>\n",
       "      <td>0</td>\n",
       "      <td>0</td>\n",
       "      <td>1</td>\n",
       "      <td>4</td>\n",
       "      <td>10</td>\n",
       "      <td>4</td>\n",
       "    </tr>\n",
       "    <tr>\n",
       "      <th>2004-10-01 05:00:00</th>\n",
       "      <td>11681.0</td>\n",
       "      <td>275</td>\n",
       "      <td>0</td>\n",
       "      <td>0</td>\n",
       "      <td>0</td>\n",
       "      <td>0</td>\n",
       "      <td>0</td>\n",
       "      <td>1</td>\n",
       "      <td>5</td>\n",
       "      <td>10</td>\n",
       "      <td>4</td>\n",
       "    </tr>\n",
       "  </tbody>\n",
       "</table>\n",
       "</div>"
      ],
      "text/plain": [
       "                         aep  year_day  holiday  weekend  winter  spring  \\\n",
       "Datetime                                                                   \n",
       "2004-10-01 01:00:00  12379.0       275        0        0       0       0   \n",
       "2004-10-01 02:00:00  11935.0       275        0        0       0       0   \n",
       "2004-10-01 03:00:00  11692.0       275        0        0       0       0   \n",
       "2004-10-01 04:00:00  11597.0       275        0        0       0       0   \n",
       "2004-10-01 05:00:00  11681.0       275        0        0       0       0   \n",
       "\n",
       "                     summer  fall  hour  month  day_of_week  \n",
       "Datetime                                                     \n",
       "2004-10-01 01:00:00       0     1     1     10            4  \n",
       "2004-10-01 02:00:00       0     1     2     10            4  \n",
       "2004-10-01 03:00:00       0     1     3     10            4  \n",
       "2004-10-01 04:00:00       0     1     4     10            4  \n",
       "2004-10-01 05:00:00       0     1     5     10            4  "
      ]
     },
     "execution_count": 3,
     "metadata": {},
     "output_type": "execute_result"
    }
   ],
   "source": [
    "df=pd.read_csv(r'C:\\Users\\Talha Ali\\Desktop\\machine learning labs.csv', index_col=['Datetime'], parse_dates=['Datetime'])\n",
    "df.head()"
   ]
  },
  {
   "cell_type": "code",
   "execution_count": 5,
   "id": "b2a6a929",
   "metadata": {},
   "outputs": [
    {
     "name": "stdout",
     "output_type": "stream",
     "text": [
      "<class 'pandas.core.frame.DataFrame'>\n",
      "DatetimeIndex: 121296 entries, 2004-10-01 01:00:00 to 2018-08-03 00:00:00\n",
      "Data columns (total 11 columns):\n",
      " #   Column       Non-Null Count   Dtype  \n",
      "---  ------       --------------   -----  \n",
      " 0   aep          121296 non-null  float64\n",
      " 1   year_day     121296 non-null  int64  \n",
      " 2   holiday      121296 non-null  int64  \n",
      " 3   weekend      121296 non-null  int64  \n",
      " 4   winter       121296 non-null  int64  \n",
      " 5   spring       121296 non-null  int64  \n",
      " 6   summer       121296 non-null  int64  \n",
      " 7   fall         121296 non-null  int64  \n",
      " 8   hour         121296 non-null  int64  \n",
      " 9   month        121296 non-null  int64  \n",
      " 10  day_of_week  121296 non-null  int64  \n",
      "dtypes: float64(1), int64(10)\n",
      "memory usage: 11.1 MB\n"
     ]
    }
   ],
   "source": [
    "df.info()"
   ]
  },
  {
   "cell_type": "markdown",
   "id": "74439d37",
   "metadata": {},
   "source": [
    "# Function to split data For Training, Validation & Test"
   ]
  },
  {
   "cell_type": "markdown",
   "id": "a9b3c452",
   "metadata": {},
   "source": [
    "# tarin, test &  validation split"
   ]
  },
  {
   "cell_type": "code",
   "execution_count": 9,
   "id": "3b74540b",
   "metadata": {},
   "outputs": [],
   "source": [
    "train_set , validation_set , test_set = sp.t_v_t(df,70,20,10)"
   ]
  },
  {
   "cell_type": "code",
   "execution_count": 11,
   "id": "bd50f610",
   "metadata": {},
   "outputs": [
    {
     "name": "stdout",
     "output_type": "stream",
     "text": [
      "(84907, 11)\n",
      "(24259, 11)\n",
      "(12130, 11)\n"
     ]
    }
   ],
   "source": [
    "print(train_set.shape)\n",
    "print(validation_set.shape)\n",
    "print(test_set.shape)"
   ]
  },
  {
   "cell_type": "code",
   "execution_count": 13,
   "id": "e147579f",
   "metadata": {},
   "outputs": [
    {
     "data": {
      "text/plain": [
       "0"
      ]
     },
     "execution_count": 13,
     "metadata": {},
     "output_type": "execute_result"
    }
   ],
   "source": [
    "(84907+24259+12130)-121296"
   ]
  },
  {
   "cell_type": "code",
   "execution_count": 15,
   "id": "988579f9",
   "metadata": {},
   "outputs": [
    {
     "data": {
      "text/html": [
       "<div>\n",
       "<style scoped>\n",
       "    .dataframe tbody tr th:only-of-type {\n",
       "        vertical-align: middle;\n",
       "    }\n",
       "\n",
       "    .dataframe tbody tr th {\n",
       "        vertical-align: top;\n",
       "    }\n",
       "\n",
       "    .dataframe thead th {\n",
       "        text-align: right;\n",
       "    }\n",
       "</style>\n",
       "<table border=\"1\" class=\"dataframe\">\n",
       "  <thead>\n",
       "    <tr style=\"text-align: right;\">\n",
       "      <th></th>\n",
       "      <th>aep</th>\n",
       "      <th>year_day</th>\n",
       "      <th>holiday</th>\n",
       "      <th>weekend</th>\n",
       "      <th>winter</th>\n",
       "      <th>spring</th>\n",
       "      <th>summer</th>\n",
       "      <th>fall</th>\n",
       "      <th>hour</th>\n",
       "      <th>month</th>\n",
       "      <th>day_of_week</th>\n",
       "    </tr>\n",
       "    <tr>\n",
       "      <th>Datetime</th>\n",
       "      <th></th>\n",
       "      <th></th>\n",
       "      <th></th>\n",
       "      <th></th>\n",
       "      <th></th>\n",
       "      <th></th>\n",
       "      <th></th>\n",
       "      <th></th>\n",
       "      <th></th>\n",
       "      <th></th>\n",
       "      <th></th>\n",
       "    </tr>\n",
       "  </thead>\n",
       "  <tbody>\n",
       "    <tr>\n",
       "      <th>2017-03-15 15:00:00</th>\n",
       "      <td>17979.0</td>\n",
       "      <td>74</td>\n",
       "      <td>0</td>\n",
       "      <td>0</td>\n",
       "      <td>0</td>\n",
       "      <td>1</td>\n",
       "      <td>0</td>\n",
       "      <td>0</td>\n",
       "      <td>15</td>\n",
       "      <td>3</td>\n",
       "      <td>2</td>\n",
       "    </tr>\n",
       "    <tr>\n",
       "      <th>2017-03-15 16:00:00</th>\n",
       "      <td>17569.0</td>\n",
       "      <td>74</td>\n",
       "      <td>0</td>\n",
       "      <td>0</td>\n",
       "      <td>0</td>\n",
       "      <td>1</td>\n",
       "      <td>0</td>\n",
       "      <td>0</td>\n",
       "      <td>16</td>\n",
       "      <td>3</td>\n",
       "      <td>2</td>\n",
       "    </tr>\n",
       "    <tr>\n",
       "      <th>2017-03-15 17:00:00</th>\n",
       "      <td>17445.0</td>\n",
       "      <td>74</td>\n",
       "      <td>0</td>\n",
       "      <td>0</td>\n",
       "      <td>0</td>\n",
       "      <td>1</td>\n",
       "      <td>0</td>\n",
       "      <td>0</td>\n",
       "      <td>17</td>\n",
       "      <td>3</td>\n",
       "      <td>2</td>\n",
       "    </tr>\n",
       "    <tr>\n",
       "      <th>2017-03-15 18:00:00</th>\n",
       "      <td>17545.0</td>\n",
       "      <td>74</td>\n",
       "      <td>0</td>\n",
       "      <td>0</td>\n",
       "      <td>0</td>\n",
       "      <td>1</td>\n",
       "      <td>0</td>\n",
       "      <td>0</td>\n",
       "      <td>18</td>\n",
       "      <td>3</td>\n",
       "      <td>2</td>\n",
       "    </tr>\n",
       "    <tr>\n",
       "      <th>2017-03-15 19:00:00</th>\n",
       "      <td>17713.0</td>\n",
       "      <td>74</td>\n",
       "      <td>0</td>\n",
       "      <td>0</td>\n",
       "      <td>0</td>\n",
       "      <td>1</td>\n",
       "      <td>0</td>\n",
       "      <td>0</td>\n",
       "      <td>19</td>\n",
       "      <td>3</td>\n",
       "      <td>2</td>\n",
       "    </tr>\n",
       "    <tr>\n",
       "      <th>...</th>\n",
       "      <td>...</td>\n",
       "      <td>...</td>\n",
       "      <td>...</td>\n",
       "      <td>...</td>\n",
       "      <td>...</td>\n",
       "      <td>...</td>\n",
       "      <td>...</td>\n",
       "      <td>...</td>\n",
       "      <td>...</td>\n",
       "      <td>...</td>\n",
       "      <td>...</td>\n",
       "    </tr>\n",
       "    <tr>\n",
       "      <th>2018-08-02 20:00:00</th>\n",
       "      <td>17673.0</td>\n",
       "      <td>214</td>\n",
       "      <td>0</td>\n",
       "      <td>0</td>\n",
       "      <td>0</td>\n",
       "      <td>0</td>\n",
       "      <td>1</td>\n",
       "      <td>0</td>\n",
       "      <td>20</td>\n",
       "      <td>8</td>\n",
       "      <td>3</td>\n",
       "    </tr>\n",
       "    <tr>\n",
       "      <th>2018-08-02 21:00:00</th>\n",
       "      <td>17303.0</td>\n",
       "      <td>214</td>\n",
       "      <td>0</td>\n",
       "      <td>0</td>\n",
       "      <td>0</td>\n",
       "      <td>0</td>\n",
       "      <td>1</td>\n",
       "      <td>0</td>\n",
       "      <td>21</td>\n",
       "      <td>8</td>\n",
       "      <td>3</td>\n",
       "    </tr>\n",
       "    <tr>\n",
       "      <th>2018-08-02 22:00:00</th>\n",
       "      <td>17001.0</td>\n",
       "      <td>214</td>\n",
       "      <td>0</td>\n",
       "      <td>0</td>\n",
       "      <td>0</td>\n",
       "      <td>0</td>\n",
       "      <td>1</td>\n",
       "      <td>0</td>\n",
       "      <td>22</td>\n",
       "      <td>8</td>\n",
       "      <td>3</td>\n",
       "    </tr>\n",
       "    <tr>\n",
       "      <th>2018-08-02 23:00:00</th>\n",
       "      <td>15964.0</td>\n",
       "      <td>214</td>\n",
       "      <td>0</td>\n",
       "      <td>0</td>\n",
       "      <td>0</td>\n",
       "      <td>0</td>\n",
       "      <td>1</td>\n",
       "      <td>0</td>\n",
       "      <td>23</td>\n",
       "      <td>8</td>\n",
       "      <td>3</td>\n",
       "    </tr>\n",
       "    <tr>\n",
       "      <th>2018-08-03 00:00:00</th>\n",
       "      <td>14809.0</td>\n",
       "      <td>215</td>\n",
       "      <td>0</td>\n",
       "      <td>0</td>\n",
       "      <td>0</td>\n",
       "      <td>0</td>\n",
       "      <td>1</td>\n",
       "      <td>0</td>\n",
       "      <td>0</td>\n",
       "      <td>8</td>\n",
       "      <td>4</td>\n",
       "    </tr>\n",
       "  </tbody>\n",
       "</table>\n",
       "<p>12130 rows × 11 columns</p>\n",
       "</div>"
      ],
      "text/plain": [
       "                         aep  year_day  holiday  weekend  winter  spring  \\\n",
       "Datetime                                                                   \n",
       "2017-03-15 15:00:00  17979.0        74        0        0       0       1   \n",
       "2017-03-15 16:00:00  17569.0        74        0        0       0       1   \n",
       "2017-03-15 17:00:00  17445.0        74        0        0       0       1   \n",
       "2017-03-15 18:00:00  17545.0        74        0        0       0       1   \n",
       "2017-03-15 19:00:00  17713.0        74        0        0       0       1   \n",
       "...                      ...       ...      ...      ...     ...     ...   \n",
       "2018-08-02 20:00:00  17673.0       214        0        0       0       0   \n",
       "2018-08-02 21:00:00  17303.0       214        0        0       0       0   \n",
       "2018-08-02 22:00:00  17001.0       214        0        0       0       0   \n",
       "2018-08-02 23:00:00  15964.0       214        0        0       0       0   \n",
       "2018-08-03 00:00:00  14809.0       215        0        0       0       0   \n",
       "\n",
       "                     summer  fall  hour  month  day_of_week  \n",
       "Datetime                                                     \n",
       "2017-03-15 15:00:00       0     0    15      3            2  \n",
       "2017-03-15 16:00:00       0     0    16      3            2  \n",
       "2017-03-15 17:00:00       0     0    17      3            2  \n",
       "2017-03-15 18:00:00       0     0    18      3            2  \n",
       "2017-03-15 19:00:00       0     0    19      3            2  \n",
       "...                     ...   ...   ...    ...          ...  \n",
       "2018-08-02 20:00:00       1     0    20      8            3  \n",
       "2018-08-02 21:00:00       1     0    21      8            3  \n",
       "2018-08-02 22:00:00       1     0    22      8            3  \n",
       "2018-08-02 23:00:00       1     0    23      8            3  \n",
       "2018-08-03 00:00:00       1     0     0      8            4  \n",
       "\n",
       "[12130 rows x 11 columns]"
      ]
     },
     "execution_count": 15,
     "metadata": {},
     "output_type": "execute_result"
    }
   ],
   "source": [
    "test_set"
   ]
  },
  {
   "cell_type": "markdown",
   "id": "2f81a75a",
   "metadata": {},
   "source": [
    "# Train"
   ]
  },
  {
   "cell_type": "markdown",
   "id": "c7aefffc",
   "metadata": {},
   "source": [
    "##### MinMax"
   ]
  },
  {
   "cell_type": "code",
   "execution_count": 30,
   "id": "ff6df1d7-c393-4be1-8a00-a16eecd22993",
   "metadata": {},
   "outputs": [
    {
     "name": "stdout",
     "output_type": "stream",
     "text": [
      "[[17979.]\n",
      " [17569.]\n",
      " [17445.]\n",
      " ...\n",
      " [17001.]\n",
      " [15964.]\n",
      " [14809.]]\n"
     ]
    }
   ],
   "source": [
    "s=test_set['aep'].values.reshape(-1, 1)  \n",
    "print(s)"
   ]
  },
  {
   "cell_type": "code",
   "execution_count": 34,
   "id": "cab742be",
   "metadata": {},
   "outputs": [
    {
     "data": {
      "text/plain": [
       "(84907, 1)"
      ]
     },
     "execution_count": 34,
     "metadata": {},
     "output_type": "execute_result"
    }
   ],
   "source": [
    "train_set_load             = train_set['aep'].values.reshape(-1, 1)              \n",
    "validation_set_load        = validation_set['aep'].values.reshape(-1, 1)\n",
    "test_set_load              = test_set['aep'].values.reshape(-1, 1)\n",
    "#.........................................................................\n",
    "scaler = MinMaxScaler(feature_range=(0, 1))\n",
    "scaler.fit(train_set_load)\n",
    "#scaler = StandardScaler()\n",
    "#scaler.fit(train_set_load)\n",
    "#.........................................................................\n",
    "scaled_train_set_load      = scaler.transform(train_set_load)\n",
    "scaled_validation_set_load = scaler.transform(validation_set_load)\n",
    "scaled_test_set_load       = scaler.transform(test_set_load)\n",
    "pickle.dump(scaler, open (\"AEPscaler.pkl\",'wb') )\n",
    "scaled_train_set_load.shape"
   ]
  },
  {
   "cell_type": "code",
   "execution_count": 36,
   "id": "c3bb9bb1-572a-4e36-b88c-54e0e9253728",
   "metadata": {},
   "outputs": [
    {
     "name": "stdout",
     "output_type": "stream",
     "text": [
      "[[0.64483588]\n",
      " [0.61302087]\n",
      " [0.60339877]\n",
      " ...\n",
      " [0.56894545]\n",
      " [0.48847676]\n",
      " [0.39885156]]\n"
     ]
    }
   ],
   "source": [
    "print(scaled_test_set_load) "
   ]
  },
  {
   "cell_type": "code",
   "execution_count": null,
   "id": "5c587467-282b-4ff7-9e77-f91206c0d30d",
   "metadata": {},
   "outputs": [],
   "source": [
    "train_set_load.shape"
   ]
  },
  {
   "cell_type": "code",
   "execution_count": 21,
   "id": "8ec1fe2e",
   "metadata": {},
   "outputs": [
    {
     "data": {
      "text/plain": [
       "(84907, 1)"
      ]
     },
     "execution_count": 21,
     "metadata": {},
     "output_type": "execute_result"
    }
   ],
   "source": [
    "train_numerical = scaled_train_set_load\n",
    "train_numerical.shape"
   ]
  },
  {
   "cell_type": "code",
   "execution_count": 23,
   "id": "b2f921dd",
   "metadata": {},
   "outputs": [
    {
     "data": {
      "text/html": [
       "<div>\n",
       "<style scoped>\n",
       "    .dataframe tbody tr th:only-of-type {\n",
       "        vertical-align: middle;\n",
       "    }\n",
       "\n",
       "    .dataframe tbody tr th {\n",
       "        vertical-align: top;\n",
       "    }\n",
       "\n",
       "    .dataframe thead th {\n",
       "        text-align: right;\n",
       "    }\n",
       "</style>\n",
       "<table border=\"1\" class=\"dataframe\">\n",
       "  <thead>\n",
       "    <tr style=\"text-align: right;\">\n",
       "      <th></th>\n",
       "      <th>aep</th>\n",
       "      <th>year_day</th>\n",
       "      <th>holiday</th>\n",
       "      <th>weekend</th>\n",
       "      <th>winter</th>\n",
       "      <th>spring</th>\n",
       "      <th>summer</th>\n",
       "      <th>fall</th>\n",
       "      <th>hour</th>\n",
       "      <th>month</th>\n",
       "      <th>day_of_week</th>\n",
       "    </tr>\n",
       "  </thead>\n",
       "  <tbody>\n",
       "    <tr>\n",
       "      <th>count</th>\n",
       "      <td>84907.000000</td>\n",
       "      <td>84907.000000</td>\n",
       "      <td>84907.000000</td>\n",
       "      <td>84907.000000</td>\n",
       "      <td>84907.000000</td>\n",
       "      <td>84907.000000</td>\n",
       "      <td>84907.000000</td>\n",
       "      <td>84907.000000</td>\n",
       "      <td>84907.000000</td>\n",
       "      <td>84907.000000</td>\n",
       "      <td>84907.000000</td>\n",
       "    </tr>\n",
       "    <tr>\n",
       "      <th>mean</th>\n",
       "      <td>15786.426325</td>\n",
       "      <td>182.050019</td>\n",
       "      <td>0.051162</td>\n",
       "      <td>0.286007</td>\n",
       "      <td>0.254961</td>\n",
       "      <td>0.260049</td>\n",
       "      <td>0.236258</td>\n",
       "      <td>0.248731</td>\n",
       "      <td>11.499664</td>\n",
       "      <td>6.488676</td>\n",
       "      <td>3.001543</td>\n",
       "    </tr>\n",
       "    <tr>\n",
       "      <th>std</th>\n",
       "      <td>2555.537364</td>\n",
       "      <td>106.809303</td>\n",
       "      <td>0.220329</td>\n",
       "      <td>0.451895</td>\n",
       "      <td>0.435842</td>\n",
       "      <td>0.438664</td>\n",
       "      <td>0.424785</td>\n",
       "      <td>0.432280</td>\n",
       "      <td>6.921974</td>\n",
       "      <td>3.492888</td>\n",
       "      <td>2.000102</td>\n",
       "    </tr>\n",
       "    <tr>\n",
       "      <th>min</th>\n",
       "      <td>9669.000000</td>\n",
       "      <td>1.000000</td>\n",
       "      <td>0.000000</td>\n",
       "      <td>0.000000</td>\n",
       "      <td>0.000000</td>\n",
       "      <td>0.000000</td>\n",
       "      <td>0.000000</td>\n",
       "      <td>0.000000</td>\n",
       "      <td>0.000000</td>\n",
       "      <td>1.000000</td>\n",
       "      <td>0.000000</td>\n",
       "    </tr>\n",
       "    <tr>\n",
       "      <th>25%</th>\n",
       "      <td>13948.000000</td>\n",
       "      <td>89.000000</td>\n",
       "      <td>0.000000</td>\n",
       "      <td>0.000000</td>\n",
       "      <td>0.000000</td>\n",
       "      <td>0.000000</td>\n",
       "      <td>0.000000</td>\n",
       "      <td>0.000000</td>\n",
       "      <td>5.500000</td>\n",
       "      <td>3.000000</td>\n",
       "      <td>1.000000</td>\n",
       "    </tr>\n",
       "    <tr>\n",
       "      <th>50%</th>\n",
       "      <td>15615.000000</td>\n",
       "      <td>179.000000</td>\n",
       "      <td>0.000000</td>\n",
       "      <td>0.000000</td>\n",
       "      <td>0.000000</td>\n",
       "      <td>0.000000</td>\n",
       "      <td>0.000000</td>\n",
       "      <td>0.000000</td>\n",
       "      <td>11.000000</td>\n",
       "      <td>6.000000</td>\n",
       "      <td>3.000000</td>\n",
       "    </tr>\n",
       "    <tr>\n",
       "      <th>75%</th>\n",
       "      <td>17464.000000</td>\n",
       "      <td>277.000000</td>\n",
       "      <td>0.000000</td>\n",
       "      <td>1.000000</td>\n",
       "      <td>1.000000</td>\n",
       "      <td>1.000000</td>\n",
       "      <td>0.000000</td>\n",
       "      <td>0.000000</td>\n",
       "      <td>17.000000</td>\n",
       "      <td>10.000000</td>\n",
       "      <td>5.000000</td>\n",
       "    </tr>\n",
       "    <tr>\n",
       "      <th>max</th>\n",
       "      <td>22556.000000</td>\n",
       "      <td>366.000000</td>\n",
       "      <td>1.000000</td>\n",
       "      <td>1.000000</td>\n",
       "      <td>1.000000</td>\n",
       "      <td>1.000000</td>\n",
       "      <td>1.000000</td>\n",
       "      <td>1.000000</td>\n",
       "      <td>23.000000</td>\n",
       "      <td>12.000000</td>\n",
       "      <td>6.000000</td>\n",
       "    </tr>\n",
       "  </tbody>\n",
       "</table>\n",
       "</div>"
      ],
      "text/plain": [
       "                aep      year_day       holiday       weekend        winter  \\\n",
       "count  84907.000000  84907.000000  84907.000000  84907.000000  84907.000000   \n",
       "mean   15786.426325    182.050019      0.051162      0.286007      0.254961   \n",
       "std     2555.537364    106.809303      0.220329      0.451895      0.435842   \n",
       "min     9669.000000      1.000000      0.000000      0.000000      0.000000   \n",
       "25%    13948.000000     89.000000      0.000000      0.000000      0.000000   \n",
       "50%    15615.000000    179.000000      0.000000      0.000000      0.000000   \n",
       "75%    17464.000000    277.000000      0.000000      1.000000      1.000000   \n",
       "max    22556.000000    366.000000      1.000000      1.000000      1.000000   \n",
       "\n",
       "             spring        summer          fall          hour         month  \\\n",
       "count  84907.000000  84907.000000  84907.000000  84907.000000  84907.000000   \n",
       "mean       0.260049      0.236258      0.248731     11.499664      6.488676   \n",
       "std        0.438664      0.424785      0.432280      6.921974      3.492888   \n",
       "min        0.000000      0.000000      0.000000      0.000000      1.000000   \n",
       "25%        0.000000      0.000000      0.000000      5.500000      3.000000   \n",
       "50%        0.000000      0.000000      0.000000     11.000000      6.000000   \n",
       "75%        1.000000      0.000000      0.000000     17.000000     10.000000   \n",
       "max        1.000000      1.000000      1.000000     23.000000     12.000000   \n",
       "\n",
       "        day_of_week  \n",
       "count  84907.000000  \n",
       "mean       3.001543  \n",
       "std        2.000102  \n",
       "min        0.000000  \n",
       "25%        1.000000  \n",
       "50%        3.000000  \n",
       "75%        5.000000  \n",
       "max        6.000000  "
      ]
     },
     "execution_count": 23,
     "metadata": {},
     "output_type": "execute_result"
    }
   ],
   "source": [
    "train_set.describe()"
   ]
  },
  {
   "cell_type": "code",
   "execution_count": 25,
   "id": "13eb4001",
   "metadata": {},
   "outputs": [
    {
     "data": {
      "text/plain": [
       "0.21028943896950414"
      ]
     },
     "execution_count": 25,
     "metadata": {},
     "output_type": "execute_result"
    }
   ],
   "source": [
    "(12379.-9669.)/(22556.0-9669)"
   ]
  },
  {
   "cell_type": "code",
   "execution_count": 27,
   "id": "bb26bdaa",
   "metadata": {},
   "outputs": [
    {
     "data": {
      "text/plain": [
       "array([[0.21028944],\n",
       "       [0.17583611],\n",
       "       [0.1569799 ],\n",
       "       ...,\n",
       "       [0.37991775],\n",
       "       [0.38410802],\n",
       "       [0.36633817]])"
      ]
     },
     "execution_count": 27,
     "metadata": {},
     "output_type": "execute_result"
    }
   ],
   "source": [
    "train_numerical"
   ]
  },
  {
   "cell_type": "markdown",
   "id": "a71d0829",
   "metadata": {},
   "source": [
    "##### OneHot Encoding"
   ]
  },
  {
   "cell_type": "code",
   "execution_count": 30,
   "id": "4c28a88c",
   "metadata": {},
   "outputs": [
    {
     "data": {
      "text/plain": [
       "Index(['aep', 'year_day', 'holiday', 'weekend', 'winter', 'spring', 'summer',\n",
       "       'fall', 'hour', 'month', 'day_of_week'],\n",
       "      dtype='object')"
      ]
     },
     "execution_count": 30,
     "metadata": {},
     "output_type": "execute_result"
    }
   ],
   "source": [
    "df.columns"
   ]
  },
  {
   "cell_type": "code",
   "execution_count": 32,
   "id": "3a50eecb",
   "metadata": {},
   "outputs": [
    {
     "data": {
      "text/plain": [
       "('holiday', 'weekend')"
      ]
     },
     "execution_count": 32,
     "metadata": {},
     "output_type": "execute_result"
    }
   ],
   "source": [
    "_=df.columns\n",
    "_[2],_[3]"
   ]
  },
  {
   "cell_type": "code",
   "execution_count": 34,
   "id": "16a8af28",
   "metadata": {},
   "outputs": [
    {
     "data": {
      "text/html": [
       "<div>\n",
       "<style scoped>\n",
       "    .dataframe tbody tr th:only-of-type {\n",
       "        vertical-align: middle;\n",
       "    }\n",
       "\n",
       "    .dataframe tbody tr th {\n",
       "        vertical-align: top;\n",
       "    }\n",
       "\n",
       "    .dataframe thead th {\n",
       "        text-align: right;\n",
       "    }\n",
       "</style>\n",
       "<table border=\"1\" class=\"dataframe\">\n",
       "  <thead>\n",
       "    <tr style=\"text-align: right;\">\n",
       "      <th></th>\n",
       "      <th>aep</th>\n",
       "      <th>year_day</th>\n",
       "      <th>holiday</th>\n",
       "      <th>weekend</th>\n",
       "      <th>winter</th>\n",
       "      <th>spring</th>\n",
       "      <th>summer</th>\n",
       "      <th>fall</th>\n",
       "      <th>hour</th>\n",
       "      <th>month</th>\n",
       "      <th>day_of_week</th>\n",
       "    </tr>\n",
       "    <tr>\n",
       "      <th>Datetime</th>\n",
       "      <th></th>\n",
       "      <th></th>\n",
       "      <th></th>\n",
       "      <th></th>\n",
       "      <th></th>\n",
       "      <th></th>\n",
       "      <th></th>\n",
       "      <th></th>\n",
       "      <th></th>\n",
       "      <th></th>\n",
       "      <th></th>\n",
       "    </tr>\n",
       "  </thead>\n",
       "  <tbody>\n",
       "    <tr>\n",
       "      <th>2004-10-01 01:00:00</th>\n",
       "      <td>12379.0</td>\n",
       "      <td>275</td>\n",
       "      <td>0</td>\n",
       "      <td>0</td>\n",
       "      <td>0</td>\n",
       "      <td>0</td>\n",
       "      <td>0</td>\n",
       "      <td>1</td>\n",
       "      <td>1</td>\n",
       "      <td>10</td>\n",
       "      <td>4</td>\n",
       "    </tr>\n",
       "    <tr>\n",
       "      <th>2004-10-01 02:00:00</th>\n",
       "      <td>11935.0</td>\n",
       "      <td>275</td>\n",
       "      <td>0</td>\n",
       "      <td>0</td>\n",
       "      <td>0</td>\n",
       "      <td>0</td>\n",
       "      <td>0</td>\n",
       "      <td>1</td>\n",
       "      <td>2</td>\n",
       "      <td>10</td>\n",
       "      <td>4</td>\n",
       "    </tr>\n",
       "    <tr>\n",
       "      <th>2004-10-01 03:00:00</th>\n",
       "      <td>11692.0</td>\n",
       "      <td>275</td>\n",
       "      <td>0</td>\n",
       "      <td>0</td>\n",
       "      <td>0</td>\n",
       "      <td>0</td>\n",
       "      <td>0</td>\n",
       "      <td>1</td>\n",
       "      <td>3</td>\n",
       "      <td>10</td>\n",
       "      <td>4</td>\n",
       "    </tr>\n",
       "    <tr>\n",
       "      <th>2004-10-01 04:00:00</th>\n",
       "      <td>11597.0</td>\n",
       "      <td>275</td>\n",
       "      <td>0</td>\n",
       "      <td>0</td>\n",
       "      <td>0</td>\n",
       "      <td>0</td>\n",
       "      <td>0</td>\n",
       "      <td>1</td>\n",
       "      <td>4</td>\n",
       "      <td>10</td>\n",
       "      <td>4</td>\n",
       "    </tr>\n",
       "    <tr>\n",
       "      <th>2004-10-01 05:00:00</th>\n",
       "      <td>11681.0</td>\n",
       "      <td>275</td>\n",
       "      <td>0</td>\n",
       "      <td>0</td>\n",
       "      <td>0</td>\n",
       "      <td>0</td>\n",
       "      <td>0</td>\n",
       "      <td>1</td>\n",
       "      <td>5</td>\n",
       "      <td>10</td>\n",
       "      <td>4</td>\n",
       "    </tr>\n",
       "    <tr>\n",
       "      <th>...</th>\n",
       "      <td>...</td>\n",
       "      <td>...</td>\n",
       "      <td>...</td>\n",
       "      <td>...</td>\n",
       "      <td>...</td>\n",
       "      <td>...</td>\n",
       "      <td>...</td>\n",
       "      <td>...</td>\n",
       "      <td>...</td>\n",
       "      <td>...</td>\n",
       "      <td>...</td>\n",
       "    </tr>\n",
       "    <tr>\n",
       "      <th>2014-06-08 15:00:00</th>\n",
       "      <td>14420.0</td>\n",
       "      <td>159</td>\n",
       "      <td>0</td>\n",
       "      <td>1</td>\n",
       "      <td>0</td>\n",
       "      <td>0</td>\n",
       "      <td>1</td>\n",
       "      <td>0</td>\n",
       "      <td>15</td>\n",
       "      <td>6</td>\n",
       "      <td>6</td>\n",
       "    </tr>\n",
       "    <tr>\n",
       "      <th>2014-06-08 16:00:00</th>\n",
       "      <td>14498.0</td>\n",
       "      <td>159</td>\n",
       "      <td>0</td>\n",
       "      <td>1</td>\n",
       "      <td>0</td>\n",
       "      <td>0</td>\n",
       "      <td>1</td>\n",
       "      <td>0</td>\n",
       "      <td>16</td>\n",
       "      <td>6</td>\n",
       "      <td>6</td>\n",
       "    </tr>\n",
       "    <tr>\n",
       "      <th>2014-06-08 17:00:00</th>\n",
       "      <td>14565.0</td>\n",
       "      <td>159</td>\n",
       "      <td>0</td>\n",
       "      <td>1</td>\n",
       "      <td>0</td>\n",
       "      <td>0</td>\n",
       "      <td>1</td>\n",
       "      <td>0</td>\n",
       "      <td>17</td>\n",
       "      <td>6</td>\n",
       "      <td>6</td>\n",
       "    </tr>\n",
       "    <tr>\n",
       "      <th>2014-06-08 18:00:00</th>\n",
       "      <td>14619.0</td>\n",
       "      <td>159</td>\n",
       "      <td>0</td>\n",
       "      <td>1</td>\n",
       "      <td>0</td>\n",
       "      <td>0</td>\n",
       "      <td>1</td>\n",
       "      <td>0</td>\n",
       "      <td>18</td>\n",
       "      <td>6</td>\n",
       "      <td>6</td>\n",
       "    </tr>\n",
       "    <tr>\n",
       "      <th>2014-06-08 19:00:00</th>\n",
       "      <td>14390.0</td>\n",
       "      <td>159</td>\n",
       "      <td>0</td>\n",
       "      <td>1</td>\n",
       "      <td>0</td>\n",
       "      <td>0</td>\n",
       "      <td>1</td>\n",
       "      <td>0</td>\n",
       "      <td>19</td>\n",
       "      <td>6</td>\n",
       "      <td>6</td>\n",
       "    </tr>\n",
       "  </tbody>\n",
       "</table>\n",
       "<p>84907 rows × 11 columns</p>\n",
       "</div>"
      ],
      "text/plain": [
       "                         aep  year_day  holiday  weekend  winter  spring  \\\n",
       "Datetime                                                                   \n",
       "2004-10-01 01:00:00  12379.0       275        0        0       0       0   \n",
       "2004-10-01 02:00:00  11935.0       275        0        0       0       0   \n",
       "2004-10-01 03:00:00  11692.0       275        0        0       0       0   \n",
       "2004-10-01 04:00:00  11597.0       275        0        0       0       0   \n",
       "2004-10-01 05:00:00  11681.0       275        0        0       0       0   \n",
       "...                      ...       ...      ...      ...     ...     ...   \n",
       "2014-06-08 15:00:00  14420.0       159        0        1       0       0   \n",
       "2014-06-08 16:00:00  14498.0       159        0        1       0       0   \n",
       "2014-06-08 17:00:00  14565.0       159        0        1       0       0   \n",
       "2014-06-08 18:00:00  14619.0       159        0        1       0       0   \n",
       "2014-06-08 19:00:00  14390.0       159        0        1       0       0   \n",
       "\n",
       "                     summer  fall  hour  month  day_of_week  \n",
       "Datetime                                                     \n",
       "2004-10-01 01:00:00       0     1     1     10            4  \n",
       "2004-10-01 02:00:00       0     1     2     10            4  \n",
       "2004-10-01 03:00:00       0     1     3     10            4  \n",
       "2004-10-01 04:00:00       0     1     4     10            4  \n",
       "2004-10-01 05:00:00       0     1     5     10            4  \n",
       "...                     ...   ...   ...    ...          ...  \n",
       "2014-06-08 15:00:00       1     0    15      6            6  \n",
       "2014-06-08 16:00:00       1     0    16      6            6  \n",
       "2014-06-08 17:00:00       1     0    17      6            6  \n",
       "2014-06-08 18:00:00       1     0    18      6            6  \n",
       "2014-06-08 19:00:00       1     0    19      6            6  \n",
       "\n",
       "[84907 rows x 11 columns]"
      ]
     },
     "execution_count": 34,
     "metadata": {},
     "output_type": "execute_result"
    }
   ],
   "source": [
    "train_set"
   ]
  },
  {
   "cell_type": "code",
   "execution_count": 36,
   "id": "7af35efe",
   "metadata": {},
   "outputs": [
    {
     "data": {
      "text/plain": [
       "(84907, 4)"
      ]
     },
     "execution_count": 36,
     "metadata": {},
     "output_type": "execute_result"
    }
   ],
   "source": [
    "train_setO     = train_set[:].values\n",
    "\n",
    "holiday        = train_setO[:,2:3]\n",
    "weekend        = train_setO[:,3:4]\n",
    "\n",
    "\n",
    "en_holiday     = OneHotEncoder(handle_unknown='ignore')\n",
    "en_weekend    = OneHotEncoder(handle_unknown='ignore')\n",
    "\n",
    "\n",
    "holidayf       = en_holiday.fit(holiday)             #2\n",
    "holidayt       = holidayf.transform(holiday).toarray() \n",
    "\n",
    "weekendf       = en_weekend.fit(weekend)             #2\n",
    "weekendt       = weekendf.transform(weekend).toarray()\n",
    "\n",
    "\n",
    "\n",
    "\n",
    "train_categorical = np.concatenate((holidayt,weekendt), axis=1)\n",
    "train_categorical.shape"
   ]
  },
  {
   "cell_type": "markdown",
   "id": "5f503d9b",
   "metadata": {},
   "source": [
    "##### Cyclic"
   ]
  },
  {
   "cell_type": "code",
   "execution_count": 39,
   "id": "cd6d7544",
   "metadata": {},
   "outputs": [
    {
     "data": {
      "text/plain": [
       "Index(['aep', 'year_day', 'holiday', 'weekend', 'winter', 'spring', 'summer',\n",
       "       'fall', 'hour', 'month', 'day_of_week'],\n",
       "      dtype='object')"
      ]
     },
     "execution_count": 39,
     "metadata": {},
     "output_type": "execute_result"
    }
   ],
   "source": [
    "df.columns"
   ]
  },
  {
   "cell_type": "code",
   "execution_count": 41,
   "id": "c83c5054",
   "metadata": {},
   "outputs": [],
   "source": [
    "cyclic_train = train_set[['month','day_of_week','hour','winter', 'spring', 'summer','fall','year_day']]\n",
    "cyclic_train = cyclic_train[:].values\n",
    "\n",
    "\n",
    "sin_montht   = np.sin(2*np.pi*cyclic_train[:,0:1]/12)\n",
    "cos_montht   = np.cos(2*np.pi*cyclic_train[:,0:1]/12)\n",
    "\n",
    "sin_weekt    = np.sin(2*np.pi*cyclic_train[:,1:2]/6)\n",
    "cos_weekt    = np.cos(2*np.pi*cyclic_train[:,1:2]/6)\n",
    "  \n",
    "sin_hourt    = np.sin(2*np.pi*cyclic_train[:,2:3]/24)\n",
    "cos_hourt    = np.cos(2*np.pi*cyclic_train[:,2:3]/24)\n",
    "\n",
    "sin_wintert    = np.sin(2*np.pi*cyclic_train[:,3:4]/4)\n",
    "cos_wintert    = np.cos(2*np.pi*cyclic_train[:,3:4]/4)\n",
    "\n",
    "sin_springt    = np.sin(2*np.pi*cyclic_train[:,4:5]/4)\n",
    "cos_springt    = np.cos(2*np.pi*cyclic_train[:,4:5]/4)\n",
    "\n",
    "sin_summert    = np.sin(2*np.pi*cyclic_train[:,5:6]/4)\n",
    "cos_summert    = np.cos(2*np.pi*cyclic_train[:,5:6]/4)\n",
    "\n",
    "sin_fallt    = np.sin(2*np.pi*cyclic_train[:,6:7]/4)\n",
    "cos_fallt    = np.cos(2*np.pi*cyclic_train[:,6:7]/4)\n",
    "\n",
    "sin_year_dayt    = np.sin(2*np.pi*cyclic_train[:,7:8]/365)\n",
    "cos_year_dayt    = np.cos(2*np.pi*cyclic_train[:,7:8]/365)\n",
    "\n",
    "train_cyclic = np.concatenate((sin_montht, cos_montht, \n",
    "                               sin_weekt, cos_weekt, \n",
    "                               sin_hourt,cos_hourt,\n",
    "                               sin_wintert,cos_wintert,\n",
    "                               sin_springt,cos_springt,\n",
    "                               sin_summert ,cos_summert,\n",
    "                               sin_fallt,cos_fallt,\n",
    "                              sin_year_dayt ,cos_year_dayt ), axis=1) "
   ]
  },
  {
   "cell_type": "code",
   "execution_count": 43,
   "id": "cd482bfb",
   "metadata": {},
   "outputs": [
    {
     "data": {
      "text/plain": [
       "(84907, 21)"
      ]
     },
     "execution_count": 43,
     "metadata": {},
     "output_type": "execute_result"
    }
   ],
   "source": [
    "train = np.concatenate((train_numerical,train_categorical, train_cyclic), axis=1)\n",
    "train.shape"
   ]
  },
  {
   "cell_type": "code",
   "execution_count": 45,
   "id": "d381af8e",
   "metadata": {},
   "outputs": [],
   "source": [
    "train_df = pd.DataFrame(data = train.transpose(), index = ['aep',\n",
    "                                                           'Is_holiday1','Is_holiday2',\n",
    "                                                           'Is_Weekend1','Is_Weekend2',\n",
    "                                                           'sin_month', 'cos_month',\n",
    "                                                           'sin_week','cos_week',\n",
    "                                                           'sin_hour', 'cos_hour',\n",
    "                                                         'sin_wintert','cos_wintert',\n",
    "                                                          'sin_springt','cos_springt',\n",
    "                                                          'sin_summert' ,'cos_summert',\n",
    "                                                          'sin_fallt','cos_fallt',\n",
    "                                                          'sin_year_dayt ','cos_year_dayt ']).transpose()"
   ]
  },
  {
   "cell_type": "code",
   "execution_count": 47,
   "id": "e9473600",
   "metadata": {},
   "outputs": [],
   "source": [
    "train_df.to_csv('7_AEP_train.csv', index=False)"
   ]
  },
  {
   "cell_type": "markdown",
   "id": "cf1de951",
   "metadata": {},
   "source": [
    "# validation"
   ]
  },
  {
   "cell_type": "markdown",
   "id": "dc7f786c",
   "metadata": {},
   "source": [
    "##### MinMax"
   ]
  },
  {
   "cell_type": "code",
   "execution_count": 50,
   "id": "d3fcac3f",
   "metadata": {},
   "outputs": [
    {
     "data": {
      "text/plain": [
       "(24259, 1)"
      ]
     },
     "execution_count": 50,
     "metadata": {},
     "output_type": "execute_result"
    }
   ],
   "source": [
    "validation_numerical = scaled_validation_set_load\n",
    "validation_numerical.shape"
   ]
  },
  {
   "cell_type": "markdown",
   "id": "ea0df9c4",
   "metadata": {},
   "source": [
    "#### OneHot"
   ]
  },
  {
   "cell_type": "code",
   "execution_count": 52,
   "id": "717f7bef",
   "metadata": {},
   "outputs": [
    {
     "data": {
      "text/plain": [
       "(24259, 4)"
      ]
     },
     "execution_count": 52,
     "metadata": {},
     "output_type": "execute_result"
    }
   ],
   "source": [
    "\n",
    "validation_setO = validation_set[:].values\n",
    "\n",
    "holiday        = validation_setO[:,2:3]\n",
    "weekend        = validation_setO[:,3:4]\n",
    "\n",
    "\n",
    "\n",
    "holidayt       = holidayf.transform(holiday).toarray() \n",
    "\n",
    "weekendt       = weekendf.transform(weekend).toarray()\n",
    "            \n",
    "                                                        \n",
    "            \n",
    "validation_categorical = np.concatenate((holidayt,weekendt), axis=1)\n",
    "validation_categorical.shape"
   ]
  },
  {
   "cell_type": "markdown",
   "id": "97407a24",
   "metadata": {},
   "source": [
    "#### cyclic"
   ]
  },
  {
   "cell_type": "code",
   "execution_count": 54,
   "id": "ed3f7768",
   "metadata": {},
   "outputs": [
    {
     "data": {
      "text/plain": [
       "(24259, 16)"
      ]
     },
     "execution_count": 54,
     "metadata": {},
     "output_type": "execute_result"
    }
   ],
   "source": [
    "cyclic_validation = validation_set[['month','day_of_week','hour','winter', 'spring', 'summer','fall','year_day']]\n",
    "cyclic_validation = cyclic_validation[:].values\n",
    "\n",
    "sin_montht   = np.sin(2*np.pi*cyclic_validation[:,0:1]/12)\n",
    "cos_montht   = np.cos(2*np.pi*cyclic_validation[:,0:1]/12)\n",
    "\n",
    "sin_weekt    = np.sin(2*np.pi*cyclic_validation[:,1:2]/6)\n",
    "cos_weekt    = np.cos(2*np.pi*cyclic_validation[:,1:2]/6)\n",
    "  \n",
    "sin_hourt    = np.sin(2*np.pi*cyclic_validation[:,2:3]/24)\n",
    "cos_hourt    = np.cos(2*np.pi*cyclic_validation[:,2:3]/24)\n",
    "\n",
    "sin_wintert    = np.sin(2*np.pi*cyclic_validation[:,3:4]/4)\n",
    "cos_wintert    = np.cos(2*np.pi*cyclic_validation[:,3:4]/4)\n",
    "\n",
    "sin_springt    = np.sin(2*np.pi*cyclic_validation[:,4:5]/4)\n",
    "cos_springt    = np.cos(2*np.pi*cyclic_validation[:,4:5]/4)\n",
    "\n",
    "sin_summert    = np.sin(2*np.pi*cyclic_validation[:,5:6]/4)\n",
    "cos_summert    = np.cos(2*np.pi*cyclic_validation[:,5:6]/4)\n",
    "\n",
    "sin_fallt    = np.sin(2*np.pi*cyclic_validation[:,6:7]/4)\n",
    "cos_fallt    = np.cos(2*np.pi*cyclic_validation[:,6:7]/4)\n",
    "\n",
    "sin_year_dayt    = np.sin(2*np.pi*cyclic_validation[:,7:8]/365)\n",
    "cos_year_dayt    = np.cos(2*np.pi*cyclic_validation[:,7:8]/365)\n",
    "\n",
    "validation_cyclic = np.concatenate((sin_montht, cos_montht, \n",
    "                               sin_weekt, cos_weekt, \n",
    "                               sin_hourt,cos_hourt,\n",
    "                               sin_wintert,cos_wintert,\n",
    "                               sin_springt,cos_springt,\n",
    "                               sin_summert ,cos_summert,\n",
    "                               sin_fallt,cos_fallt,sin_year_dayt,cos_year_dayt), axis=1) \n",
    "\n",
    "validation_cyclic.shape "
   ]
  },
  {
   "cell_type": "code",
   "execution_count": 55,
   "id": "73a1b025",
   "metadata": {},
   "outputs": [
    {
     "data": {
      "text/plain": [
       "(24259, 21)"
      ]
     },
     "execution_count": 55,
     "metadata": {},
     "output_type": "execute_result"
    }
   ],
   "source": [
    "validation = np.concatenate((validation_numerical,validation_categorical, validation_cyclic), axis=1)\n",
    "validation.shape\n"
   ]
  },
  {
   "cell_type": "code",
   "execution_count": 56,
   "id": "9996a5f2",
   "metadata": {},
   "outputs": [],
   "source": [
    "validation_df = pd.DataFrame(data = validation.transpose(), index = ['aep',\n",
    "                                                           'Is_holiday1','Is_holiday2',\n",
    "                                                           'Is_Weekend1','Is_Weekend2',\n",
    "                                                           'sin_month', 'cos_month',\n",
    "                                                           'sin_week','cos_week',\n",
    "                                                           'sin_hour', 'cos_hour',\n",
    "                                                         'sin_wintert','cos_wintert',\n",
    "                                                          'sin_springt','cos_springt',\n",
    "                                                          'sin_summert' ,'cos_summert',\n",
    "                                                          'sin_fallt','cos_fallt',\n",
    "                                                                     'sin_year_dayt','cos_year_dayt']).transpose()"
   ]
  },
  {
   "cell_type": "code",
   "execution_count": 57,
   "id": "3385eea8",
   "metadata": {},
   "outputs": [],
   "source": [
    "validation_df.to_csv('8_AEP_validation.csv', index=False)"
   ]
  },
  {
   "cell_type": "code",
   "execution_count": 59,
   "id": "de094ac0",
   "metadata": {},
   "outputs": [
    {
     "data": {
      "text/plain": [
       "(24259, 21)"
      ]
     },
     "execution_count": 59,
     "metadata": {},
     "output_type": "execute_result"
    }
   ],
   "source": [
    "validation_df.shape"
   ]
  },
  {
   "cell_type": "markdown",
   "id": "b71bc906",
   "metadata": {},
   "source": [
    "# Test"
   ]
  },
  {
   "cell_type": "markdown",
   "id": "16aeb137",
   "metadata": {},
   "source": [
    "##### MinMax"
   ]
  },
  {
   "cell_type": "code",
   "execution_count": 69,
   "id": "49632e57",
   "metadata": {},
   "outputs": [
    {
     "data": {
      "text/plain": [
       "(12130, 1)"
      ]
     },
     "execution_count": 69,
     "metadata": {},
     "output_type": "execute_result"
    }
   ],
   "source": [
    "test_numerical = scaled_test_set_load\n",
    "test_numerical.shape"
   ]
  },
  {
   "cell_type": "markdown",
   "id": "d00c57f1",
   "metadata": {},
   "source": [
    "##### OneHot"
   ]
  },
  {
   "cell_type": "code",
   "execution_count": 72,
   "id": "0c9bb15c",
   "metadata": {},
   "outputs": [
    {
     "data": {
      "text/plain": [
       "(12130, 4)"
      ]
     },
     "execution_count": 72,
     "metadata": {},
     "output_type": "execute_result"
    }
   ],
   "source": [
    "\n",
    "test_setO = test_set[:].values\n",
    "\n",
    "holiday        = test_setO[:,2:3]\n",
    "weekend        = test_setO[:,3:4]\n",
    "\n",
    "\n",
    "\n",
    "holidayt       = holidayf.transform(holiday).toarray() \n",
    "\n",
    "weekendt       = weekendf.transform(weekend).toarray()\n",
    "            \n",
    "                                                        \n",
    "            \n",
    "test_categorical = np.concatenate((holidayt,weekendt), axis=1)\n",
    "test_categorical.shape"
   ]
  },
  {
   "cell_type": "markdown",
   "id": "2bd28d0b",
   "metadata": {},
   "source": [
    "##### cyclic"
   ]
  },
  {
   "cell_type": "code",
   "execution_count": 75,
   "id": "a0dc66e0",
   "metadata": {},
   "outputs": [
    {
     "data": {
      "text/plain": [
       "(12130, 16)"
      ]
     },
     "execution_count": 75,
     "metadata": {},
     "output_type": "execute_result"
    }
   ],
   "source": [
    "cyclic_test = test_set[['month','day_of_week','hour','winter', 'spring', 'summer','fall', 'year_day']]\n",
    "cyclic_test = cyclic_test[:].values\n",
    "\n",
    "sin_montht   = np.sin(2*np.pi*cyclic_test[:,0:1]/12)\n",
    "cos_montht   = np.cos(2*np.pi*cyclic_test[:,0:1]/12)\n",
    "\n",
    "sin_weekt    = np.sin(2*np.pi*cyclic_test[:,1:2]/6)\n",
    "cos_weekt    = np.cos(2*np.pi*cyclic_test[:,1:2]/6)\n",
    "  \n",
    "sin_hourt    = np.sin(2*np.pi*cyclic_test[:,2:3]/24)\n",
    "cos_hourt    = np.cos(2*np.pi*cyclic_test[:,2:3]/24)\n",
    "\n",
    "sin_wintert    = np.sin(2*np.pi*cyclic_test[:,3:4]/4)\n",
    "cos_wintert    = np.cos(2*np.pi*cyclic_test[:,3:4]/4)\n",
    "\n",
    "sin_springt    = np.sin(2*np.pi*cyclic_test[:,4:5]/4)\n",
    "cos_springt    = np.cos(2*np.pi*cyclic_test[:,4:5]/4)\n",
    "\n",
    "sin_summert    = np.sin(2*np.pi*cyclic_test[:,5:6]/4)\n",
    "cos_summert    = np.cos(2*np.pi*cyclic_test[:,5:6]/4)\n",
    "\n",
    "sin_fallt    = np.sin(2*np.pi*cyclic_test[:,6:7]/4)\n",
    "cos_fallt    = np.cos(2*np.pi*cyclic_test[:,6:7]/4)\n",
    "\n",
    "sin_year_dayt    = np.sin(2*np.pi*cyclic_test[:,7:8]/365)\n",
    "cos_year_dayt    = np.cos(2*np.pi*cyclic_test[:,7:8]/365)\n",
    "\n",
    "test_cyclic = np.concatenate((sin_montht, cos_montht, \n",
    "                               sin_weekt, cos_weekt, \n",
    "                               sin_hourt,cos_hourt,\n",
    "                               sin_wintert,cos_wintert,\n",
    "                               sin_springt,cos_springt,\n",
    "                               sin_summert ,cos_summert,\n",
    "                               sin_fallt,cos_fallt,sin_year_dayt,cos_year_dayt ), axis=1) \n",
    "\n",
    "test_cyclic.shape "
   ]
  },
  {
   "cell_type": "code",
   "execution_count": 77,
   "id": "b6f82203",
   "metadata": {},
   "outputs": [
    {
     "data": {
      "text/plain": [
       "(12130, 21)"
      ]
     },
     "execution_count": 77,
     "metadata": {},
     "output_type": "execute_result"
    }
   ],
   "source": [
    "test = np.concatenate((test_numerical,test_categorical, test_cyclic), axis=1)\n",
    "test.shape\n"
   ]
  },
  {
   "cell_type": "code",
   "execution_count": 79,
   "id": "ba971730",
   "metadata": {},
   "outputs": [],
   "source": [
    "test_df = pd.DataFrame(data = test.transpose(), index = ['aep',\n",
    "                                                           'Is_holiday1','Is_holiday2',\n",
    "                                                           'Is_Weekend1','Is_Weekend2',\n",
    "                                                           'sin_month', 'cos_month',\n",
    "                                                           'sin_week','cos_week',\n",
    "                                                           'sin_hour', 'cos_hour',\n",
    "                                                         'sin_wintert','cos_wintert',\n",
    "                                                          'sin_springt','cos_springt',\n",
    "                                                          'sin_summert' ,'cos_summert',\n",
    "                                                          'sin_fallt','cos_fallt',\n",
    "                                                         'sin_year_dayt','cos_year_dayt']).transpose()"
   ]
  },
  {
   "cell_type": "code",
   "execution_count": 81,
   "id": "0b98408b",
   "metadata": {},
   "outputs": [],
   "source": [
    "test_df.to_csv('9_AEP_test.csv', index=False)"
   ]
  },
  {
   "cell_type": "code",
   "execution_count": 82,
   "id": "fd23af12",
   "metadata": {},
   "outputs": [
    {
     "data": {
      "text/plain": [
       "(12130, 21)"
      ]
     },
     "execution_count": 82,
     "metadata": {},
     "output_type": "execute_result"
    }
   ],
   "source": [
    "test_df.shape"
   ]
  },
  {
   "cell_type": "code",
   "execution_count": 85,
   "id": "d5caaac0",
   "metadata": {},
   "outputs": [
    {
     "data": {
      "text/plain": [
       "2312"
      ]
     },
     "execution_count": 85,
     "metadata": {},
     "output_type": "execute_result"
    }
   ],
   "source": [
    "4*((24*24)+24^2+24)"
   ]
  },
  {
   "cell_type": "code",
   "execution_count": 87,
   "id": "6f834395",
   "metadata": {},
   "outputs": [
    {
     "data": {
      "text/plain": [
       "176.88958333333332"
      ]
     },
     "execution_count": 87,
     "metadata": {},
     "output_type": "execute_result"
    }
   ],
   "source": [
    "(84907)/(10*(24+24))"
   ]
  },
  {
   "cell_type": "code",
   "execution_count": 89,
   "id": "becae428",
   "metadata": {},
   "outputs": [
    {
     "data": {
      "text/plain": [
       "84907"
      ]
     },
     "execution_count": 89,
     "metadata": {},
     "output_type": "execute_result"
    }
   ],
   "source": [
    "84907"
   ]
  }
 ],
 "metadata": {
  "kernelspec": {
   "display_name": "Python 3 (ipykernel)",
   "language": "python",
   "name": "python3"
  },
  "language_info": {
   "codemirror_mode": {
    "name": "ipython",
    "version": 3
   },
   "file_extension": ".py",
   "mimetype": "text/x-python",
   "name": "python",
   "nbconvert_exporter": "python",
   "pygments_lexer": "ipython3",
   "version": "3.12.4"
  }
 },
 "nbformat": 4,
 "nbformat_minor": 5
}
