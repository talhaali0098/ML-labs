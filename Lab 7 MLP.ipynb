{
 "cells": [
  {
   "cell_type": "code",
   "execution_count": null,
   "metadata": {},
   "outputs": [],
   "source": [
    "\n",
    "import sys\n",
    "sys.path.append(r\"C:\\Users\\Talha Ali\\Desktop\\machine learning labs\\timeseires\")"
   ]
  },
  {
   "cell_type": "code",
   "execution_count": 9,
   "metadata": {},
   "outputs": [],
   "source": [
    "from sklearn.metrics import mean_squared_error, mean_absolute_error, explained_variance_score, r2_score\n",
    "from timeseires.utils.to_split import to_split\n",
    "from timeseires.utils.multivariate_multi_step import multivariate_multi_step\n",
    "from timeseires.utils.multivariate_single_step import multivariate_single_step\n",
    "from timeseires.utils.univariate_multi_step import univariate_multi_step\n",
    "from timeseires.utils.univariate_single_step import univariate_single_step\n",
    "from timeseires.utils.CosineAnnealingLRS import CosineAnnealingLRS\n",
    "from timeseires.callbacks.EpochCheckpoint import EpochCheckpoint\n",
    "from tensorflow.keras.callbacks import ModelCheckpoint\n",
    "from timeseires.callbacks.TrainingMonitor import TrainingMonitor\n",
    "from tensorflow.keras.optimizers import Adam\n",
    "from tensorflow.keras.optimizers import SGD\n",
    "from tensorflow.keras.models import load_model\n",
    "from tensorflow.keras.layers import LSTM, Bidirectional, Add\n",
    "from tensorflow.keras.layers import BatchNormalization\n",
    "from tensorflow.keras.layers import Conv1D,TimeDistributed\n",
    "from tensorflow.keras.layers import Dense, Dropout, Activation, Flatten,MaxPooling1D,Concatenate,AveragePooling1D, GlobalMaxPooling1D, Input\n",
    "from tensorflow.keras.models import Sequential,Model\n",
    "\n",
    "import pandas as pd\n",
    "import time, pickle\n",
    "import numpy as np\n",
    "import tensorflow.keras.backend as K\n",
    "import tensorflow\n",
    "from tensorflow.keras.layers import Input, Reshape, Lambda\n",
    "from tensorflow.keras.layers import Layer, Flatten, LeakyReLU, concatenate, Dense\n",
    "from tensorflow.keras.regularizers import l2\n",
    "import glob\n",
    "import h5py\n",
    "import matplotlib.pyplot as plt\n",
    "from keras.callbacks import Callback"
   ]
  },
  {
   "cell_type": "code",
   "execution_count": 11,
   "metadata": {},
   "outputs": [],
   "source": [
    "#lookback = 24\n",
    "model = None\n",
    "start_epoch = 0\n",
    "time_steps=24\n",
    "num_features=21"
   ]
  },
  {
   "cell_type": "code",
   "execution_count": 13,
   "metadata": {},
   "outputs": [],
   "source": [
    "def MLP():\n",
    "    model = Sequential()\n",
    "    model.add(Flatten(input_shape=(time_steps , num_features)))\n",
    "    model.add(Dense(32, activation='relu'))\n",
    "    model.add(Dense(1))\n",
    "    return model"
   ]
  },
  {
   "cell_type": "code",
   "execution_count": 15,
   "metadata": {
    "scrolled": true
   },
   "outputs": [
    {
     "name": "stderr",
     "output_type": "stream",
     "text": [
      "C:\\Users\\PMLS\\anaconda3\\Lib\\site-packages\\keras\\src\\layers\\reshaping\\flatten.py:37: UserWarning: Do not pass an `input_shape`/`input_dim` argument to a layer. When using Sequential models, prefer using an `Input(shape)` object as the first layer in the model instead.\n",
      "  super().__init__(**kwargs)\n"
     ]
    },
    {
     "data": {
      "text/html": [
       "<pre style=\"white-space:pre;overflow-x:auto;line-height:normal;font-family:Menlo,'DejaVu Sans Mono',consolas,'Courier New',monospace\"><span style=\"font-weight: bold\">Model: \"sequential\"</span>\n",
       "</pre>\n"
      ],
      "text/plain": [
       "\u001b[1mModel: \"sequential\"\u001b[0m\n"
      ]
     },
     "metadata": {},
     "output_type": "display_data"
    },
    {
     "data": {
      "text/html": [
       "<pre style=\"white-space:pre;overflow-x:auto;line-height:normal;font-family:Menlo,'DejaVu Sans Mono',consolas,'Courier New',monospace\">┏━━━━━━━━━━━━━━━━━━━━━━━━━━━━━━━━━━━━━━┳━━━━━━━━━━━━━━━━━━━━━━━━━━━━━┳━━━━━━━━━━━━━━━━━┓\n",
       "┃<span style=\"font-weight: bold\"> Layer (type)                         </span>┃<span style=\"font-weight: bold\"> Output Shape                </span>┃<span style=\"font-weight: bold\">         Param # </span>┃\n",
       "┡━━━━━━━━━━━━━━━━━━━━━━━━━━━━━━━━━━━━━━╇━━━━━━━━━━━━━━━━━━━━━━━━━━━━━╇━━━━━━━━━━━━━━━━━┩\n",
       "│ flatten (<span style=\"color: #0087ff; text-decoration-color: #0087ff\">Flatten</span>)                    │ (<span style=\"color: #00d7ff; text-decoration-color: #00d7ff\">None</span>, <span style=\"color: #00af00; text-decoration-color: #00af00\">504</span>)                 │               <span style=\"color: #00af00; text-decoration-color: #00af00\">0</span> │\n",
       "├──────────────────────────────────────┼─────────────────────────────┼─────────────────┤\n",
       "│ dense (<span style=\"color: #0087ff; text-decoration-color: #0087ff\">Dense</span>)                        │ (<span style=\"color: #00d7ff; text-decoration-color: #00d7ff\">None</span>, <span style=\"color: #00af00; text-decoration-color: #00af00\">32</span>)                  │          <span style=\"color: #00af00; text-decoration-color: #00af00\">16,160</span> │\n",
       "├──────────────────────────────────────┼─────────────────────────────┼─────────────────┤\n",
       "│ dense_1 (<span style=\"color: #0087ff; text-decoration-color: #0087ff\">Dense</span>)                      │ (<span style=\"color: #00d7ff; text-decoration-color: #00d7ff\">None</span>, <span style=\"color: #00af00; text-decoration-color: #00af00\">1</span>)                   │              <span style=\"color: #00af00; text-decoration-color: #00af00\">33</span> │\n",
       "└──────────────────────────────────────┴─────────────────────────────┴─────────────────┘\n",
       "</pre>\n"
      ],
      "text/plain": [
       "┏━━━━━━━━━━━━━━━━━━━━━━━━━━━━━━━━━━━━━━┳━━━━━━━━━━━━━━━━━━━━━━━━━━━━━┳━━━━━━━━━━━━━━━━━┓\n",
       "┃\u001b[1m \u001b[0m\u001b[1mLayer (type)                        \u001b[0m\u001b[1m \u001b[0m┃\u001b[1m \u001b[0m\u001b[1mOutput Shape               \u001b[0m\u001b[1m \u001b[0m┃\u001b[1m \u001b[0m\u001b[1m        Param #\u001b[0m\u001b[1m \u001b[0m┃\n",
       "┡━━━━━━━━━━━━━━━━━━━━━━━━━━━━━━━━━━━━━━╇━━━━━━━━━━━━━━━━━━━━━━━━━━━━━╇━━━━━━━━━━━━━━━━━┩\n",
       "│ flatten (\u001b[38;5;33mFlatten\u001b[0m)                    │ (\u001b[38;5;45mNone\u001b[0m, \u001b[38;5;34m504\u001b[0m)                 │               \u001b[38;5;34m0\u001b[0m │\n",
       "├──────────────────────────────────────┼─────────────────────────────┼─────────────────┤\n",
       "│ dense (\u001b[38;5;33mDense\u001b[0m)                        │ (\u001b[38;5;45mNone\u001b[0m, \u001b[38;5;34m32\u001b[0m)                  │          \u001b[38;5;34m16,160\u001b[0m │\n",
       "├──────────────────────────────────────┼─────────────────────────────┼─────────────────┤\n",
       "│ dense_1 (\u001b[38;5;33mDense\u001b[0m)                      │ (\u001b[38;5;45mNone\u001b[0m, \u001b[38;5;34m1\u001b[0m)                   │              \u001b[38;5;34m33\u001b[0m │\n",
       "└──────────────────────────────────────┴─────────────────────────────┴─────────────────┘\n"
      ]
     },
     "metadata": {},
     "output_type": "display_data"
    },
    {
     "data": {
      "text/html": [
       "<pre style=\"white-space:pre;overflow-x:auto;line-height:normal;font-family:Menlo,'DejaVu Sans Mono',consolas,'Courier New',monospace\"><span style=\"font-weight: bold\"> Total params: </span><span style=\"color: #00af00; text-decoration-color: #00af00\">16,193</span> (63.25 KB)\n",
       "</pre>\n"
      ],
      "text/plain": [
       "\u001b[1m Total params: \u001b[0m\u001b[38;5;34m16,193\u001b[0m (63.25 KB)\n"
      ]
     },
     "metadata": {},
     "output_type": "display_data"
    },
    {
     "data": {
      "text/html": [
       "<pre style=\"white-space:pre;overflow-x:auto;line-height:normal;font-family:Menlo,'DejaVu Sans Mono',consolas,'Courier New',monospace\"><span style=\"font-weight: bold\"> Trainable params: </span><span style=\"color: #00af00; text-decoration-color: #00af00\">16,193</span> (63.25 KB)\n",
       "</pre>\n"
      ],
      "text/plain": [
       "\u001b[1m Trainable params: \u001b[0m\u001b[38;5;34m16,193\u001b[0m (63.25 KB)\n"
      ]
     },
     "metadata": {},
     "output_type": "display_data"
    },
    {
     "data": {
      "text/html": [
       "<pre style=\"white-space:pre;overflow-x:auto;line-height:normal;font-family:Menlo,'DejaVu Sans Mono',consolas,'Courier New',monospace\"><span style=\"font-weight: bold\"> Non-trainable params: </span><span style=\"color: #00af00; text-decoration-color: #00af00\">0</span> (0.00 B)\n",
       "</pre>\n"
      ],
      "text/plain": [
       "\u001b[1m Non-trainable params: \u001b[0m\u001b[38;5;34m0\u001b[0m (0.00 B)\n"
      ]
     },
     "metadata": {},
     "output_type": "display_data"
    }
   ],
   "source": [
    "model1 = MLP()\n",
    "model1.summary()"
   ]
  },
  {
   "cell_type": "code",
   "execution_count": 17,
   "metadata": {},
   "outputs": [
    {
     "name": "stdout",
     "output_type": "stream",
     "text": [
      "You must install pydot (`pip install pydot`) for `plot_model` to work.\n"
     ]
    }
   ],
   "source": [
    "tensorflow.keras.utils.plot_model(model1 )"
   ]
  },
  {
   "cell_type": "code",
   "execution_count": null,
   "metadata": {},
   "outputs": [],
   "source": [
    "checkpoints = r'C:\\Users\\Talha Ali\\Desktop\\machine learning labs\\\\E1-cp-{epoch:04d}-loss{val_loss:.2f}.h5'\n",
    "OUTPUT_PATH = r'C:\\Users\\Talha Ali\\Desktop\\machine learning labs'\n",
    "#FIG_PATH = os.path.sep.join([OUTPUT_PATH,\"\\history.png\"])\n",
    "#JSON_PATH = os.path.sep.join([OUTPUT_PATH,\"\\history.json\"])"
   ]
  },
  {
   "cell_type": "code",
   "execution_count": 21,
   "metadata": {},
   "outputs": [],
   "source": [
    "# construct the callback to save only the *best* model to disk\n",
    "# based on the validation loss\n",
    "EpochCheckpoint1 = ModelCheckpoint(checkpoints,\n",
    "                             monitor=\"val_loss\",\n",
    "                             save_best_only=True, \n",
    "                             verbose=1)\n",
    "#TrainingMonitor1=TrainingMonitor(FIG_PATH, jsonPath=JSON_PATH, startAt=start_epoch)\n",
    "\n",
    "# construct the set of callbacks\n",
    "callbacks = [EpochCheckpoint1]"
   ]
  },
  {
   "cell_type": "code",
   "execution_count": 23,
   "metadata": {},
   "outputs": [
    {
     "name": "stdout",
     "output_type": "stream",
     "text": [
      "[INFO] compiling model...\n"
     ]
    }
   ],
   "source": [
    "# if there is no specific model checkpoint supplied, then initialize\n",
    "# the network and compile the model\n",
    "if model is None:\n",
    "    print(\"[INFO] compiling model...\")\n",
    "    model =MLP()\n",
    "    opt = Adam(1e-3)\n",
    "    model.compile(loss= 'mae', optimizer=opt, metrics=[\"mae\", \"mape\"])\n",
    "# otherwise, load the checkpoint from disk\n",
    "else:\n",
    "    print(\"[INFO] loading {}...\".format(model))\n",
    "    model = load_model(model)\n",
    "\n",
    "    # update the learning rate\n",
    "    print(\"[INFO] old learning rate: {}\".format(K.get_value(model.optimizer.lr)))\n",
    "    K.set_value(model.optimizer.lr, 1e-4)\n",
    "    print(\"[INFO] new learning rate: {}\".format(K.get_value(model.optimizer.lr)))"
   ]
  },
  {
   "cell_type": "code",
   "execution_count": null,
   "metadata": {},
   "outputs": [
    {
     "name": "stderr",
     "output_type": "stream",
     "text": [
      "C:\\Users\\PMLS\\anaconda3\\Lib\\site-packages\\sklearn\\base.py:376: InconsistentVersionWarning: Trying to unpickle estimator MinMaxScaler from version 1.0.2 when using version 1.4.2. This might lead to breaking code or invalid results. Use at your own risk. For more info please refer to:\n",
      "https://scikit-learn.org/stable/model_persistence.html#security-maintainability-limitations\n",
      "  warnings.warn(\n"
     ]
    },
    {
     "data": {
      "text/plain": [
       "((84907, 21), (24259, 21), (12130, 21))"
      ]
     },
     "execution_count": 25,
     "metadata": {},
     "output_type": "execute_result"
    }
   ],
   "source": [
    "import os\n",
    "path_dataset =r'C:\\Users\\Talha Ali\\Desktop\\machine learning labs'\n",
    "path_tr = os.path.join(path_dataset, 'AEP_train.csv')\n",
    "df_tr = pd.read_csv(path_tr)\n",
    "train_set = df_tr.iloc[:].values\n",
    "path_v = os.path.join(path_dataset, 'AEP_validation.csv')\n",
    "df_v = pd.read_csv(path_v)\n",
    "validation_set = df_v.iloc[:].values \n",
    "path_te = os.path.join(path_dataset, 'AEP_test.csv')\n",
    "df_te = pd.read_csv(path_te)\n",
    "test_set = df_te.iloc[:].values \n",
    "\n",
    "path_scaler = os.path.join(path_dataset, 'AEP_Scaler.pkl')\n",
    "scaler         = pickle.load(open(path_scaler, 'rb'))\n",
    "\n",
    "train_set.shape, validation_set.shape, test_set.shape"
   ]
  },
  {
   "cell_type": "code",
   "execution_count": 27,
   "metadata": {},
   "outputs": [
    {
     "data": {
      "text/html": [
       "<div>\n",
       "<style scoped>\n",
       "    .dataframe tbody tr th:only-of-type {\n",
       "        vertical-align: middle;\n",
       "    }\n",
       "\n",
       "    .dataframe tbody tr th {\n",
       "        vertical-align: top;\n",
       "    }\n",
       "\n",
       "    .dataframe thead th {\n",
       "        text-align: right;\n",
       "    }\n",
       "</style>\n",
       "<table border=\"1\" class=\"dataframe\">\n",
       "  <thead>\n",
       "    <tr style=\"text-align: right;\">\n",
       "      <th></th>\n",
       "      <th>aep</th>\n",
       "      <th>Is_holiday1</th>\n",
       "      <th>Is_holiday2</th>\n",
       "      <th>Is_Weekend1</th>\n",
       "      <th>Is_Weekend2</th>\n",
       "      <th>sin_month</th>\n",
       "      <th>cos_month</th>\n",
       "      <th>sin_week</th>\n",
       "      <th>cos_week</th>\n",
       "      <th>sin_hour</th>\n",
       "      <th>...</th>\n",
       "      <th>sin_wintert</th>\n",
       "      <th>cos_wintert</th>\n",
       "      <th>sin_springt</th>\n",
       "      <th>cos_springt</th>\n",
       "      <th>sin_summert</th>\n",
       "      <th>cos_summert</th>\n",
       "      <th>sin_fallt</th>\n",
       "      <th>cos_fallt</th>\n",
       "      <th>sin_year_dayt</th>\n",
       "      <th>cos_year_dayt</th>\n",
       "    </tr>\n",
       "  </thead>\n",
       "  <tbody>\n",
       "    <tr>\n",
       "      <th>0</th>\n",
       "      <td>0.518532</td>\n",
       "      <td>1.0</td>\n",
       "      <td>0.0</td>\n",
       "      <td>1.0</td>\n",
       "      <td>0.0</td>\n",
       "      <td>1.0</td>\n",
       "      <td>6.123234e-17</td>\n",
       "      <td>0.866025</td>\n",
       "      <td>-0.5</td>\n",
       "      <td>-0.707107</td>\n",
       "      <td>...</td>\n",
       "      <td>0.0</td>\n",
       "      <td>1.0</td>\n",
       "      <td>1.0</td>\n",
       "      <td>6.123234e-17</td>\n",
       "      <td>0.0</td>\n",
       "      <td>1.0</td>\n",
       "      <td>0.0</td>\n",
       "      <td>1.0</td>\n",
       "      <td>0.956235</td>\n",
       "      <td>0.2926</td>\n",
       "    </tr>\n",
       "  </tbody>\n",
       "</table>\n",
       "<p>1 rows × 21 columns</p>\n",
       "</div>"
      ],
      "text/plain": [
       "        aep  Is_holiday1  Is_holiday2  Is_Weekend1  Is_Weekend2  sin_month  \\\n",
       "0  0.518532          1.0          0.0          1.0          0.0        1.0   \n",
       "\n",
       "      cos_month  sin_week  cos_week  sin_hour  ...  sin_wintert  cos_wintert  \\\n",
       "0  6.123234e-17  0.866025      -0.5 -0.707107  ...          0.0          1.0   \n",
       "\n",
       "   sin_springt   cos_springt  sin_summert  cos_summert  sin_fallt  cos_fallt  \\\n",
       "0          1.0  6.123234e-17          0.0          1.0        0.0        1.0   \n",
       "\n",
       "   sin_year_dayt  cos_year_dayt  \n",
       "0       0.956235         0.2926  \n",
       "\n",
       "[1 rows x 21 columns]"
      ]
     },
     "execution_count": 27,
     "metadata": {},
     "output_type": "execute_result"
    }
   ],
   "source": [
    "df_te.head(1)"
   ]
  },
  {
   "cell_type": "code",
   "execution_count": 29,
   "metadata": {},
   "outputs": [
    {
     "data": {
      "text/plain": [
       "array([ 5.18532385e-01,  1.00000000e+00,  0.00000000e+00,  1.00000000e+00,\n",
       "        0.00000000e+00,  1.00000000e+00,  6.12323400e-17,  8.66025404e-01,\n",
       "       -5.00000000e-01, -7.07106781e-01, -7.07106781e-01,  0.00000000e+00,\n",
       "        1.00000000e+00,  1.00000000e+00,  6.12323400e-17,  0.00000000e+00,\n",
       "        1.00000000e+00,  0.00000000e+00,  1.00000000e+00,  9.56234827e-01,\n",
       "        2.92600336e-01])"
      ]
     },
     "execution_count": 29,
     "metadata": {},
     "output_type": "execute_result"
    }
   ],
   "source": [
    "test_set[0]"
   ]
  },
  {
   "cell_type": "code",
   "execution_count": 31,
   "metadata": {},
   "outputs": [],
   "source": [
    "time_steps=2\n",
    "num_features=21"
   ]
  },
  {
   "cell_type": "code",
   "execution_count": 33,
   "metadata": {},
   "outputs": [],
   "source": [
    "train_X , train_y = univariate_multi_step(train_set, time_steps, target_col=0,target_len=0)"
   ]
  },
  {
   "cell_type": "code",
   "execution_count": 35,
   "metadata": {},
   "outputs": [
    {
     "data": {
      "text/plain": [
       "array([[ 1.69100212e-01,  1.00000000e+00,  0.00000000e+00,\n",
       "         1.00000000e+00,  0.00000000e+00, -8.66025404e-01,\n",
       "         5.00000000e-01, -8.66025404e-01, -5.00000000e-01,\n",
       "         2.58819045e-01,  9.65925826e-01,  0.00000000e+00,\n",
       "         1.00000000e+00,  0.00000000e+00,  1.00000000e+00,\n",
       "         0.00000000e+00,  1.00000000e+00,  1.00000000e+00,\n",
       "         6.12323400e-17, -9.99768502e-01,  2.15160974e-02],\n",
       "       [ 1.41395233e-01,  1.00000000e+00,  0.00000000e+00,\n",
       "         1.00000000e+00,  0.00000000e+00, -8.66025404e-01,\n",
       "         5.00000000e-01, -8.66025404e-01, -5.00000000e-01,\n",
       "         5.00000000e-01,  8.66025404e-01,  0.00000000e+00,\n",
       "         1.00000000e+00,  0.00000000e+00,  1.00000000e+00,\n",
       "         0.00000000e+00,  1.00000000e+00,  1.00000000e+00,\n",
       "         6.12323400e-17, -9.99768502e-01,  2.15160974e-02]])"
      ]
     },
     "execution_count": 35,
     "metadata": {},
     "output_type": "execute_result"
    }
   ],
   "source": [
    "train_X[0]"
   ]
  },
  {
   "cell_type": "code",
   "execution_count": 37,
   "metadata": {},
   "outputs": [
    {
     "data": {
      "text/plain": [
       "array([], dtype=float64)"
      ]
     },
     "execution_count": 37,
     "metadata": {},
     "output_type": "execute_result"
    }
   ],
   "source": [
    "train_y[0]"
   ]
  },
  {
   "cell_type": "code",
   "execution_count": 39,
   "metadata": {},
   "outputs": [],
   "source": [
    "time_steps =24\n",
    "train_X , train_y = univariate_multi_step(train_set, time_steps, target_col=1,target_len=2)"
   ]
  },
  {
   "cell_type": "code",
   "execution_count": 41,
   "metadata": {},
   "outputs": [
    {
     "data": {
      "text/plain": [
       "array([[ 1.69100212e-01,  1.00000000e+00,  0.00000000e+00,\n",
       "         1.00000000e+00,  0.00000000e+00, -8.66025404e-01,\n",
       "         5.00000000e-01, -8.66025404e-01, -5.00000000e-01,\n",
       "         2.58819045e-01,  9.65925826e-01,  0.00000000e+00,\n",
       "         1.00000000e+00,  0.00000000e+00,  1.00000000e+00,\n",
       "         0.00000000e+00,  1.00000000e+00,  1.00000000e+00,\n",
       "         6.12323400e-17, -9.99768502e-01,  2.15160974e-02],\n",
       "       [ 1.41395233e-01,  1.00000000e+00,  0.00000000e+00,\n",
       "         1.00000000e+00,  0.00000000e+00, -8.66025404e-01,\n",
       "         5.00000000e-01, -8.66025404e-01, -5.00000000e-01,\n",
       "         5.00000000e-01,  8.66025404e-01,  0.00000000e+00,\n",
       "         1.00000000e+00,  0.00000000e+00,  1.00000000e+00,\n",
       "         0.00000000e+00,  1.00000000e+00,  1.00000000e+00,\n",
       "         6.12323400e-17, -9.99768502e-01,  2.15160974e-02],\n",
       "       [ 1.26232372e-01,  1.00000000e+00,  0.00000000e+00,\n",
       "         1.00000000e+00,  0.00000000e+00, -8.66025404e-01,\n",
       "         5.00000000e-01, -8.66025404e-01, -5.00000000e-01,\n",
       "         7.07106781e-01,  7.07106781e-01,  0.00000000e+00,\n",
       "         1.00000000e+00,  0.00000000e+00,  1.00000000e+00,\n",
       "         0.00000000e+00,  1.00000000e+00,  1.00000000e+00,\n",
       "         6.12323400e-17, -9.99768502e-01,  2.15160974e-02],\n",
       "       [ 1.20304505e-01,  1.00000000e+00,  0.00000000e+00,\n",
       "         1.00000000e+00,  0.00000000e+00, -8.66025404e-01,\n",
       "         5.00000000e-01, -8.66025404e-01, -5.00000000e-01,\n",
       "         8.66025404e-01,  5.00000000e-01,  0.00000000e+00,\n",
       "         1.00000000e+00,  0.00000000e+00,  1.00000000e+00,\n",
       "         0.00000000e+00,  1.00000000e+00,  1.00000000e+00,\n",
       "         6.12323400e-17, -9.99768502e-01,  2.15160974e-02],\n",
       "       [ 1.25545988e-01,  1.00000000e+00,  0.00000000e+00,\n",
       "         1.00000000e+00,  0.00000000e+00, -8.66025404e-01,\n",
       "         5.00000000e-01, -8.66025404e-01, -5.00000000e-01,\n",
       "         9.65925826e-01,  2.58819045e-01,  0.00000000e+00,\n",
       "         1.00000000e+00,  0.00000000e+00,  1.00000000e+00,\n",
       "         0.00000000e+00,  1.00000000e+00,  1.00000000e+00,\n",
       "         6.12323400e-17, -9.99768502e-01,  2.15160974e-02],\n",
       "       [ 1.62922751e-01,  1.00000000e+00,  0.00000000e+00,\n",
       "         1.00000000e+00,  0.00000000e+00, -8.66025404e-01,\n",
       "         5.00000000e-01, -8.66025404e-01, -5.00000000e-01,\n",
       "         1.00000000e+00,  6.12323400e-17,  0.00000000e+00,\n",
       "         1.00000000e+00,  0.00000000e+00,  1.00000000e+00,\n",
       "         0.00000000e+00,  1.00000000e+00,  1.00000000e+00,\n",
       "         6.12323400e-17, -9.99768502e-01,  2.15160974e-02],\n",
       "       [ 2.51029577e-01,  1.00000000e+00,  0.00000000e+00,\n",
       "         1.00000000e+00,  0.00000000e+00, -8.66025404e-01,\n",
       "         5.00000000e-01, -8.66025404e-01, -5.00000000e-01,\n",
       "         9.65925826e-01, -2.58819045e-01,  0.00000000e+00,\n",
       "         1.00000000e+00,  0.00000000e+00,  1.00000000e+00,\n",
       "         0.00000000e+00,  1.00000000e+00,  1.00000000e+00,\n",
       "         6.12323400e-17, -9.99768502e-01,  2.15160974e-02],\n",
       "       [ 3.08810683e-01,  1.00000000e+00,  0.00000000e+00,\n",
       "         1.00000000e+00,  0.00000000e+00, -8.66025404e-01,\n",
       "         5.00000000e-01, -8.66025404e-01, -5.00000000e-01,\n",
       "         8.66025404e-01, -5.00000000e-01,  0.00000000e+00,\n",
       "         1.00000000e+00,  0.00000000e+00,  1.00000000e+00,\n",
       "         0.00000000e+00,  1.00000000e+00,  1.00000000e+00,\n",
       "         6.12323400e-17, -9.99768502e-01,  2.15160974e-02],\n",
       "       [ 3.26594284e-01,  1.00000000e+00,  0.00000000e+00,\n",
       "         1.00000000e+00,  0.00000000e+00, -8.66025404e-01,\n",
       "         5.00000000e-01, -8.66025404e-01, -5.00000000e-01,\n",
       "         7.07106781e-01, -7.07106781e-01,  0.00000000e+00,\n",
       "         1.00000000e+00,  0.00000000e+00,  1.00000000e+00,\n",
       "         0.00000000e+00,  1.00000000e+00,  1.00000000e+00,\n",
       "         6.12323400e-17, -9.99768502e-01,  2.15160974e-02],\n",
       "       [ 3.40009984e-01,  1.00000000e+00,  0.00000000e+00,\n",
       "         1.00000000e+00,  0.00000000e+00, -8.66025404e-01,\n",
       "         5.00000000e-01, -8.66025404e-01, -5.00000000e-01,\n",
       "         5.00000000e-01, -8.66025404e-01,  0.00000000e+00,\n",
       "         1.00000000e+00,  0.00000000e+00,  1.00000000e+00,\n",
       "         0.00000000e+00,  1.00000000e+00,  1.00000000e+00,\n",
       "         6.12323400e-17, -9.99768502e-01,  2.15160974e-02],\n",
       "       [ 3.47747410e-01,  1.00000000e+00,  0.00000000e+00,\n",
       "         1.00000000e+00,  0.00000000e+00, -8.66025404e-01,\n",
       "         5.00000000e-01, -8.66025404e-01, -5.00000000e-01,\n",
       "         2.58819045e-01, -9.65925826e-01,  0.00000000e+00,\n",
       "         1.00000000e+00,  0.00000000e+00,  1.00000000e+00,\n",
       "         0.00000000e+00,  1.00000000e+00,  1.00000000e+00,\n",
       "         6.12323400e-17, -9.99768502e-01,  2.15160974e-02],\n",
       "       [ 3.56046425e-01,  1.00000000e+00,  0.00000000e+00,\n",
       "         1.00000000e+00,  0.00000000e+00, -8.66025404e-01,\n",
       "         5.00000000e-01, -8.66025404e-01, -5.00000000e-01,\n",
       "         1.22464680e-16, -1.00000000e+00,  0.00000000e+00,\n",
       "         1.00000000e+00,  0.00000000e+00,  1.00000000e+00,\n",
       "         0.00000000e+00,  1.00000000e+00,  1.00000000e+00,\n",
       "         6.12323400e-17, -9.99768502e-01,  2.15160974e-02],\n",
       "       [ 3.57855984e-01,  1.00000000e+00,  0.00000000e+00,\n",
       "         1.00000000e+00,  0.00000000e+00, -8.66025404e-01,\n",
       "         5.00000000e-01, -8.66025404e-01, -5.00000000e-01,\n",
       "        -2.58819045e-01, -9.65925826e-01,  0.00000000e+00,\n",
       "         1.00000000e+00,  0.00000000e+00,  1.00000000e+00,\n",
       "         0.00000000e+00,  1.00000000e+00,  1.00000000e+00,\n",
       "         6.12323400e-17, -9.99768502e-01,  2.15160974e-02],\n",
       "       [ 3.73518033e-01,  1.00000000e+00,  0.00000000e+00,\n",
       "         1.00000000e+00,  0.00000000e+00, -8.66025404e-01,\n",
       "         5.00000000e-01, -8.66025404e-01, -5.00000000e-01,\n",
       "        -5.00000000e-01, -8.66025404e-01,  0.00000000e+00,\n",
       "         1.00000000e+00,  0.00000000e+00,  1.00000000e+00,\n",
       "         0.00000000e+00,  1.00000000e+00,  1.00000000e+00,\n",
       "         6.12323400e-17, -9.99768502e-01,  2.15160974e-02],\n",
       "       [ 3.78759516e-01,  1.00000000e+00,  0.00000000e+00,\n",
       "         1.00000000e+00,  0.00000000e+00, -8.66025404e-01,\n",
       "         5.00000000e-01, -8.66025404e-01, -5.00000000e-01,\n",
       "        -7.07106781e-01, -7.07106781e-01,  0.00000000e+00,\n",
       "         1.00000000e+00,  0.00000000e+00,  1.00000000e+00,\n",
       "         0.00000000e+00,  1.00000000e+00,  1.00000000e+00,\n",
       "         6.12323400e-17, -9.99768502e-01,  2.15160974e-02],\n",
       "       [ 3.78759516e-01,  1.00000000e+00,  0.00000000e+00,\n",
       "         1.00000000e+00,  0.00000000e+00, -8.66025404e-01,\n",
       "         5.00000000e-01, -8.66025404e-01, -5.00000000e-01,\n",
       "        -8.66025404e-01, -5.00000000e-01,  0.00000000e+00,\n",
       "         1.00000000e+00,  0.00000000e+00,  1.00000000e+00,\n",
       "         0.00000000e+00,  1.00000000e+00,  1.00000000e+00,\n",
       "         6.12323400e-17, -9.99768502e-01,  2.15160974e-02],\n",
       "       [ 3.72831649e-01,  1.00000000e+00,  0.00000000e+00,\n",
       "         1.00000000e+00,  0.00000000e+00, -8.66025404e-01,\n",
       "         5.00000000e-01, -8.66025404e-01, -5.00000000e-01,\n",
       "        -9.65925826e-01, -2.58819045e-01,  0.00000000e+00,\n",
       "         1.00000000e+00,  0.00000000e+00,  1.00000000e+00,\n",
       "         0.00000000e+00,  1.00000000e+00,  1.00000000e+00,\n",
       "         6.12323400e-17, -9.99768502e-01,  2.15160974e-02],\n",
       "       [ 3.54673655e-01,  1.00000000e+00,  0.00000000e+00,\n",
       "         1.00000000e+00,  0.00000000e+00, -8.66025404e-01,\n",
       "         5.00000000e-01, -8.66025404e-01, -5.00000000e-01,\n",
       "        -1.00000000e+00, -1.83697020e-16,  0.00000000e+00,\n",
       "         1.00000000e+00,  0.00000000e+00,  1.00000000e+00,\n",
       "         0.00000000e+00,  1.00000000e+00,  1.00000000e+00,\n",
       "         6.12323400e-17, -9.99768502e-01,  2.15160974e-02],\n",
       "       [ 3.34768501e-01,  1.00000000e+00,  0.00000000e+00,\n",
       "         1.00000000e+00,  0.00000000e+00, -8.66025404e-01,\n",
       "         5.00000000e-01, -8.66025404e-01, -5.00000000e-01,\n",
       "        -9.65925826e-01,  2.58819045e-01,  0.00000000e+00,\n",
       "         1.00000000e+00,  0.00000000e+00,  1.00000000e+00,\n",
       "         0.00000000e+00,  1.00000000e+00,  1.00000000e+00,\n",
       "         6.12323400e-17, -9.99768502e-01,  2.15160974e-02],\n",
       "       [ 3.45813054e-01,  1.00000000e+00,  0.00000000e+00,\n",
       "         1.00000000e+00,  0.00000000e+00, -8.66025404e-01,\n",
       "         5.00000000e-01, -8.66025404e-01, -5.00000000e-01,\n",
       "        -8.66025404e-01,  5.00000000e-01,  0.00000000e+00,\n",
       "         1.00000000e+00,  0.00000000e+00,  1.00000000e+00,\n",
       "         0.00000000e+00,  1.00000000e+00,  1.00000000e+00,\n",
       "         6.12323400e-17, -9.99768502e-01,  2.15160974e-02],\n",
       "       [ 3.54424061e-01,  1.00000000e+00,  0.00000000e+00,\n",
       "         1.00000000e+00,  0.00000000e+00, -8.66025404e-01,\n",
       "         5.00000000e-01, -8.66025404e-01, -5.00000000e-01,\n",
       "        -7.07106781e-01,  7.07106781e-01,  0.00000000e+00,\n",
       "         1.00000000e+00,  0.00000000e+00,  1.00000000e+00,\n",
       "         0.00000000e+00,  1.00000000e+00,  1.00000000e+00,\n",
       "         6.12323400e-17, -9.99768502e-01,  2.15160974e-02],\n",
       "       [ 3.22475977e-01,  1.00000000e+00,  0.00000000e+00,\n",
       "         1.00000000e+00,  0.00000000e+00, -8.66025404e-01,\n",
       "         5.00000000e-01, -8.66025404e-01, -5.00000000e-01,\n",
       "        -5.00000000e-01,  8.66025404e-01,  0.00000000e+00,\n",
       "         1.00000000e+00,  0.00000000e+00,  1.00000000e+00,\n",
       "         0.00000000e+00,  1.00000000e+00,  1.00000000e+00,\n",
       "         6.12323400e-17, -9.99768502e-01,  2.15160974e-02],\n",
       "       [ 2.74429053e-01,  1.00000000e+00,  0.00000000e+00,\n",
       "         1.00000000e+00,  0.00000000e+00, -8.66025404e-01,\n",
       "         5.00000000e-01, -8.66025404e-01, -5.00000000e-01,\n",
       "        -2.58819045e-01,  9.65925826e-01,  0.00000000e+00,\n",
       "         1.00000000e+00,  0.00000000e+00,  1.00000000e+00,\n",
       "         0.00000000e+00,  1.00000000e+00,  1.00000000e+00,\n",
       "         6.12323400e-17, -9.99768502e-01,  2.15160974e-02],\n",
       "       [ 2.17022339e-01,  1.00000000e+00,  0.00000000e+00,\n",
       "         0.00000000e+00,  1.00000000e+00, -8.66025404e-01,\n",
       "         5.00000000e-01, -8.66025404e-01,  5.00000000e-01,\n",
       "         0.00000000e+00,  1.00000000e+00,  0.00000000e+00,\n",
       "         1.00000000e+00,  0.00000000e+00,  1.00000000e+00,\n",
       "         0.00000000e+00,  1.00000000e+00,  1.00000000e+00,\n",
       "         6.12323400e-17, -9.99250011e-01,  3.87222809e-02]])"
      ]
     },
     "execution_count": 41,
     "metadata": {},
     "output_type": "execute_result"
    }
   ],
   "source": [
    "train_X[0]"
   ]
  },
  {
   "cell_type": "code",
   "execution_count": 43,
   "metadata": {},
   "outputs": [
    {
     "data": {
      "text/plain": [
       "array([1., 1.])"
      ]
     },
     "execution_count": 43,
     "metadata": {},
     "output_type": "execute_result"
    }
   ],
   "source": [
    "train_y[0]"
   ]
  },
  {
   "cell_type": "code",
   "execution_count": 45,
   "metadata": {},
   "outputs": [
    {
     "name": "stdout",
     "output_type": "stream",
     "text": [
      "Time Consumed 0.4148116111755371 sec\n"
     ]
    }
   ],
   "source": [
    "start = time.time()\n",
    "train_X , train_y = univariate_multi_step(train_set, time_steps, target_col=0,target_len=1)\n",
    "validation_X, validation_y = univariate_multi_step(validation_set, time_steps, target_col=0,target_len=1)\n",
    "test_X, test_y = univariate_multi_step(test_set, time_steps, target_col=0,target_len=1)\n",
    "print('Time Consumed', time.time()-start, \"sec\")"
   ]
  },
  {
   "cell_type": "code",
   "execution_count": 49,
   "metadata": {},
   "outputs": [
    {
     "name": "stdout",
     "output_type": "stream",
     "text": [
      "Epoch 1/30\n",
      "\u001b[1m2617/2653\u001b[0m \u001b[32m━━━━━━━━━━━━━━━━━━━\u001b[0m\u001b[37m━\u001b[0m \u001b[1m0s\u001b[0m 1ms/step - loss: 0.0174 - mae: 0.0174 - mape: 44.0588\n",
      "Epoch 1: val_loss improved from 0.01738 to 0.01672, saving model to C:\\Users\\PMLS\\shahid (ML-lab)\\lab7\\\\E1-cp-0001-loss0.02.h5\n"
     ]
    },
    {
     "name": "stderr",
     "output_type": "stream",
     "text": [
      "WARNING:absl:You are saving your model as an HDF5 file via `model.save()` or `keras.saving.save_model(model)`. This file format is considered legacy. We recommend using instead the native Keras format, e.g. `model.save('my_model.keras')` or `keras.saving.save_model(model, 'my_model.keras')`. \n"
     ]
    },
    {
     "name": "stdout",
     "output_type": "stream",
     "text": [
      "\u001b[1m2653/2653\u001b[0m \u001b[32m━━━━━━━━━━━━━━━━━━━━\u001b[0m\u001b[37m\u001b[0m \u001b[1m5s\u001b[0m 2ms/step - loss: 0.0174 - mae: 0.0174 - mape: 49.2601 - val_loss: 0.0167 - val_mae: 0.0167 - val_mape: 7.3132\n",
      "Epoch 2/30\n",
      "\u001b[1m2651/2653\u001b[0m \u001b[32m━━━━━━━━━━━━━━━━━━━\u001b[0m\u001b[37m━\u001b[0m \u001b[1m0s\u001b[0m 1ms/step - loss: 0.0165 - mae: 0.0165 - mape: 2697.1426\n",
      "Epoch 2: val_loss improved from 0.01672 to 0.01613, saving model to C:\\Users\\PMLS\\shahid (ML-lab)\\lab7\\\\E1-cp-0002-loss0.02.h5\n"
     ]
    },
    {
     "name": "stderr",
     "output_type": "stream",
     "text": [
      "WARNING:absl:You are saving your model as an HDF5 file via `model.save()` or `keras.saving.save_model(model)`. This file format is considered legacy. We recommend using instead the native Keras format, e.g. `model.save('my_model.keras')` or `keras.saving.save_model(model, 'my_model.keras')`. \n"
     ]
    },
    {
     "name": "stdout",
     "output_type": "stream",
     "text": [
      "\u001b[1m2653/2653\u001b[0m \u001b[32m━━━━━━━━━━━━━━━━━━━━\u001b[0m\u001b[37m\u001b[0m \u001b[1m5s\u001b[0m 2ms/step - loss: 0.0165 - mae: 0.0165 - mape: 2694.8789 - val_loss: 0.0161 - val_mae: 0.0161 - val_mape: 7.1427\n",
      "Epoch 3/30\n",
      "\u001b[1m2642/2653\u001b[0m \u001b[32m━━━━━━━━━━━━━━━━━━━\u001b[0m\u001b[37m━\u001b[0m \u001b[1m0s\u001b[0m 1ms/step - loss: 0.0160 - mae: 0.0160 - mape: 449.9112\n",
      "Epoch 3: val_loss did not improve from 0.01613\n",
      "\u001b[1m2653/2653\u001b[0m \u001b[32m━━━━━━━━━━━━━━━━━━━━\u001b[0m\u001b[37m\u001b[0m \u001b[1m5s\u001b[0m 2ms/step - loss: 0.0160 - mae: 0.0160 - mape: 449.7070 - val_loss: 0.0170 - val_mae: 0.0170 - val_mape: 7.2144\n",
      "Epoch 4/30\n",
      "\u001b[1m2633/2653\u001b[0m \u001b[32m━━━━━━━━━━━━━━━━━━━\u001b[0m\u001b[37m━\u001b[0m \u001b[1m0s\u001b[0m 2ms/step - loss: 0.0156 - mae: 0.0156 - mape: 394.1133\n",
      "Epoch 4: val_loss did not improve from 0.01613\n",
      "\u001b[1m2653/2653\u001b[0m \u001b[32m━━━━━━━━━━━━━━━━━━━━\u001b[0m\u001b[37m\u001b[0m \u001b[1m5s\u001b[0m 2ms/step - loss: 0.0156 - mae: 0.0156 - mape: 392.8590 - val_loss: 0.0164 - val_mae: 0.0164 - val_mape: 7.4616\n",
      "Epoch 5/30\n",
      "\u001b[1m2646/2653\u001b[0m \u001b[32m━━━━━━━━━━━━━━━━━━━\u001b[0m\u001b[37m━\u001b[0m \u001b[1m0s\u001b[0m 1ms/step - loss: 0.0150 - mae: 0.0150 - mape: 324.2248\n",
      "Epoch 5: val_loss improved from 0.01613 to 0.01380, saving model to C:\\Users\\PMLS\\shahid (ML-lab)\\lab7\\\\E1-cp-0005-loss0.01.h5\n"
     ]
    },
    {
     "name": "stderr",
     "output_type": "stream",
     "text": [
      "WARNING:absl:You are saving your model as an HDF5 file via `model.save()` or `keras.saving.save_model(model)`. This file format is considered legacy. We recommend using instead the native Keras format, e.g. `model.save('my_model.keras')` or `keras.saving.save_model(model, 'my_model.keras')`. \n"
     ]
    },
    {
     "name": "stdout",
     "output_type": "stream",
     "text": [
      "\u001b[1m2653/2653\u001b[0m \u001b[32m━━━━━━━━━━━━━━━━━━━━\u001b[0m\u001b[37m\u001b[0m \u001b[1m4s\u001b[0m 2ms/step - loss: 0.0150 - mae: 0.0150 - mape: 323.8373 - val_loss: 0.0138 - val_mae: 0.0138 - val_mape: 6.0655\n",
      "Epoch 6/30\n",
      "\u001b[1m2628/2653\u001b[0m \u001b[32m━━━━━━━━━━━━━━━━━━━\u001b[0m\u001b[37m━\u001b[0m \u001b[1m0s\u001b[0m 1ms/step - loss: 0.0150 - mae: 0.0150 - mape: 688.9628\n",
      "Epoch 6: val_loss did not improve from 0.01380\n",
      "\u001b[1m2653/2653\u001b[0m \u001b[32m━━━━━━━━━━━━━━━━━━━━\u001b[0m\u001b[37m\u001b[0m \u001b[1m5s\u001b[0m 2ms/step - loss: 0.0150 - mae: 0.0150 - mape: 685.3497 - val_loss: 0.0142 - val_mae: 0.0142 - val_mape: 5.9711\n",
      "Epoch 7/30\n",
      "\u001b[1m2629/2653\u001b[0m \u001b[32m━━━━━━━━━━━━━━━━━━━\u001b[0m\u001b[37m━\u001b[0m \u001b[1m0s\u001b[0m 1ms/step - loss: 0.0149 - mae: 0.0149 - mape: 254.1535\n",
      "Epoch 7: val_loss improved from 0.01380 to 0.01378, saving model to C:\\Users\\PMLS\\shahid (ML-lab)\\lab7\\\\E1-cp-0007-loss0.01.h5\n"
     ]
    },
    {
     "name": "stderr",
     "output_type": "stream",
     "text": [
      "WARNING:absl:You are saving your model as an HDF5 file via `model.save()` or `keras.saving.save_model(model)`. This file format is considered legacy. We recommend using instead the native Keras format, e.g. `model.save('my_model.keras')` or `keras.saving.save_model(model, 'my_model.keras')`. \n"
     ]
    },
    {
     "name": "stdout",
     "output_type": "stream",
     "text": [
      "\u001b[1m2653/2653\u001b[0m \u001b[32m━━━━━━━━━━━━━━━━━━━━\u001b[0m\u001b[37m\u001b[0m \u001b[1m5s\u001b[0m 2ms/step - loss: 0.0149 - mae: 0.0149 - mape: 255.2169 - val_loss: 0.0138 - val_mae: 0.0138 - val_mape: 6.1489\n",
      "Epoch 8/30\n",
      "\u001b[1m2630/2653\u001b[0m \u001b[32m━━━━━━━━━━━━━━━━━━━\u001b[0m\u001b[37m━\u001b[0m \u001b[1m0s\u001b[0m 1ms/step - loss: 0.0147 - mae: 0.0147 - mape: 1260.1628\n",
      "Epoch 8: val_loss improved from 0.01378 to 0.01349, saving model to C:\\Users\\PMLS\\shahid (ML-lab)\\lab7\\\\E1-cp-0008-loss0.01.h5\n"
     ]
    },
    {
     "name": "stderr",
     "output_type": "stream",
     "text": [
      "WARNING:absl:You are saving your model as an HDF5 file via `model.save()` or `keras.saving.save_model(model)`. This file format is considered legacy. We recommend using instead the native Keras format, e.g. `model.save('my_model.keras')` or `keras.saving.save_model(model, 'my_model.keras')`. \n"
     ]
    },
    {
     "name": "stdout",
     "output_type": "stream",
     "text": [
      "\u001b[1m2653/2653\u001b[0m \u001b[32m━━━━━━━━━━━━━━━━━━━━\u001b[0m\u001b[37m\u001b[0m \u001b[1m4s\u001b[0m 2ms/step - loss: 0.0147 - mae: 0.0147 - mape: 1252.0160 - val_loss: 0.0135 - val_mae: 0.0135 - val_mape: 6.2974\n",
      "Epoch 9/30\n",
      "\u001b[1m2634/2653\u001b[0m \u001b[32m━━━━━━━━━━━━━━━━━━━\u001b[0m\u001b[37m━\u001b[0m \u001b[1m0s\u001b[0m 1ms/step - loss: 0.0143 - mae: 0.0143 - mape: 385.4995\n",
      "Epoch 9: val_loss did not improve from 0.01349\n",
      "\u001b[1m2653/2653\u001b[0m \u001b[32m━━━━━━━━━━━━━━━━━━━━\u001b[0m\u001b[37m\u001b[0m \u001b[1m5s\u001b[0m 2ms/step - loss: 0.0143 - mae: 0.0143 - mape: 385.4050 - val_loss: 0.0151 - val_mae: 0.0151 - val_mape: 6.2730\n",
      "Epoch 10/30\n",
      "\u001b[1m2621/2653\u001b[0m \u001b[32m━━━━━━━━━━━━━━━━━━━\u001b[0m\u001b[37m━\u001b[0m \u001b[1m0s\u001b[0m 1ms/step - loss: 0.0141 - mae: 0.0141 - mape: 24.2171\n",
      "Epoch 10: val_loss did not improve from 0.01349\n",
      "\u001b[1m2653/2653\u001b[0m \u001b[32m━━━━━━━━━━━━━━━━━━━━\u001b[0m\u001b[37m\u001b[0m \u001b[1m4s\u001b[0m 2ms/step - loss: 0.0141 - mae: 0.0141 - mape: 25.7772 - val_loss: 0.0135 - val_mae: 0.0135 - val_mape: 5.9935\n",
      "Epoch 11/30\n",
      "\u001b[1m2628/2653\u001b[0m \u001b[32m━━━━━━━━━━━━━━━━━━━\u001b[0m\u001b[37m━\u001b[0m \u001b[1m0s\u001b[0m 1ms/step - loss: 0.0140 - mae: 0.0140 - mape: 455.4535\n",
      "Epoch 11: val_loss did not improve from 0.01349\n",
      "\u001b[1m2653/2653\u001b[0m \u001b[32m━━━━━━━━━━━━━━━━━━━━\u001b[0m\u001b[37m\u001b[0m \u001b[1m4s\u001b[0m 2ms/step - loss: 0.0140 - mae: 0.0140 - mape: 453.3624 - val_loss: 0.0171 - val_mae: 0.0171 - val_mape: 7.9843\n",
      "Epoch 12/30\n",
      "\u001b[1m2618/2653\u001b[0m \u001b[32m━━━━━━━━━━━━━━━━━━━\u001b[0m\u001b[37m━\u001b[0m \u001b[1m0s\u001b[0m 1ms/step - loss: 0.0137 - mae: 0.0137 - mape: 143.4405\n",
      "Epoch 12: val_loss did not improve from 0.01349\n",
      "\u001b[1m2653/2653\u001b[0m \u001b[32m━━━━━━━━━━━━━━━━━━━━\u001b[0m\u001b[37m\u001b[0m \u001b[1m4s\u001b[0m 2ms/step - loss: 0.0137 - mae: 0.0137 - mape: 145.3199 - val_loss: 0.0218 - val_mae: 0.0218 - val_mape: 11.6925\n",
      "Epoch 13/30\n",
      "\u001b[1m2651/2653\u001b[0m \u001b[32m━━━━━━━━━━━━━━━━━━━\u001b[0m\u001b[37m━\u001b[0m \u001b[1m0s\u001b[0m 1ms/step - loss: 0.0138 - mae: 0.0138 - mape: 34.2287\n",
      "Epoch 13: val_loss did not improve from 0.01349\n",
      "\u001b[1m2653/2653\u001b[0m \u001b[32m━━━━━━━━━━━━━━━━━━━━\u001b[0m\u001b[37m\u001b[0m \u001b[1m4s\u001b[0m 2ms/step - loss: 0.0138 - mae: 0.0138 - mape: 34.3952 - val_loss: 0.0144 - val_mae: 0.0144 - val_mape: 6.9125\n",
      "Epoch 14/30\n",
      "\u001b[1m2640/2653\u001b[0m \u001b[32m━━━━━━━━━━━━━━━━━━━\u001b[0m\u001b[37m━\u001b[0m \u001b[1m0s\u001b[0m 1ms/step - loss: 0.0135 - mae: 0.0135 - mape: 67.6923\n",
      "Epoch 14: val_loss improved from 0.01349 to 0.01320, saving model to C:\\Users\\PMLS\\shahid (ML-lab)\\lab7\\\\E1-cp-0014-loss0.01.h5\n"
     ]
    },
    {
     "name": "stderr",
     "output_type": "stream",
     "text": [
      "WARNING:absl:You are saving your model as an HDF5 file via `model.save()` or `keras.saving.save_model(model)`. This file format is considered legacy. We recommend using instead the native Keras format, e.g. `model.save('my_model.keras')` or `keras.saving.save_model(model, 'my_model.keras')`. \n"
     ]
    },
    {
     "name": "stdout",
     "output_type": "stream",
     "text": [
      "\u001b[1m2653/2653\u001b[0m \u001b[32m━━━━━━━━━━━━━━━━━━━━\u001b[0m\u001b[37m\u001b[0m \u001b[1m4s\u001b[0m 2ms/step - loss: 0.0135 - mae: 0.0135 - mape: 68.5579 - val_loss: 0.0132 - val_mae: 0.0132 - val_mape: 5.9860\n",
      "Epoch 15/30\n",
      "\u001b[1m2629/2653\u001b[0m \u001b[32m━━━━━━━━━━━━━━━━━━━\u001b[0m\u001b[37m━\u001b[0m \u001b[1m0s\u001b[0m 1ms/step - loss: 0.0131 - mae: 0.0131 - mape: 14.5531\n",
      "Epoch 15: val_loss improved from 0.01320 to 0.01203, saving model to C:\\Users\\PMLS\\shahid (ML-lab)\\lab7\\\\E1-cp-0015-loss0.01.h5\n"
     ]
    },
    {
     "name": "stderr",
     "output_type": "stream",
     "text": [
      "WARNING:absl:You are saving your model as an HDF5 file via `model.save()` or `keras.saving.save_model(model)`. This file format is considered legacy. We recommend using instead the native Keras format, e.g. `model.save('my_model.keras')` or `keras.saving.save_model(model, 'my_model.keras')`. \n"
     ]
    },
    {
     "name": "stdout",
     "output_type": "stream",
     "text": [
      "\u001b[1m2653/2653\u001b[0m \u001b[32m━━━━━━━━━━━━━━━━━━━━\u001b[0m\u001b[37m\u001b[0m \u001b[1m5s\u001b[0m 2ms/step - loss: 0.0131 - mae: 0.0131 - mape: 19.6766 - val_loss: 0.0120 - val_mae: 0.0120 - val_mape: 5.6438\n",
      "Epoch 16/30\n",
      "\u001b[1m2621/2653\u001b[0m \u001b[32m━━━━━━━━━━━━━━━━━━━\u001b[0m\u001b[37m━\u001b[0m \u001b[1m0s\u001b[0m 1ms/step - loss: 0.0131 - mae: 0.0131 - mape: 833.0591\n",
      "Epoch 16: val_loss did not improve from 0.01203\n",
      "\u001b[1m2653/2653\u001b[0m \u001b[32m━━━━━━━━━━━━━━━━━━━━\u001b[0m\u001b[37m\u001b[0m \u001b[1m4s\u001b[0m 2ms/step - loss: 0.0131 - mae: 0.0131 - mape: 827.5319 - val_loss: 0.0141 - val_mae: 0.0141 - val_mape: 6.1513\n",
      "Epoch 17/30\n",
      "\u001b[1m2614/2653\u001b[0m \u001b[32m━━━━━━━━━━━━━━━━━━━\u001b[0m\u001b[37m━\u001b[0m \u001b[1m0s\u001b[0m 1ms/step - loss: 0.0131 - mae: 0.0131 - mape: 4.3108\n",
      "Epoch 17: val_loss did not improve from 0.01203\n",
      "\u001b[1m2653/2653\u001b[0m \u001b[32m━━━━━━━━━━━━━━━━━━━━\u001b[0m\u001b[37m\u001b[0m \u001b[1m4s\u001b[0m 2ms/step - loss: 0.0131 - mae: 0.0131 - mape: 9.6771 - val_loss: 0.0136 - val_mae: 0.0136 - val_mape: 6.3748\n",
      "Epoch 18/30\n",
      "\u001b[1m2651/2653\u001b[0m \u001b[32m━━━━━━━━━━━━━━━━━━━\u001b[0m\u001b[37m━\u001b[0m \u001b[1m0s\u001b[0m 1ms/step - loss: 0.0130 - mae: 0.0130 - mape: 396.6725\n",
      "Epoch 18: val_loss did not improve from 0.01203\n",
      "\u001b[1m2653/2653\u001b[0m \u001b[32m━━━━━━━━━━━━━━━━━━━━\u001b[0m\u001b[37m\u001b[0m \u001b[1m4s\u001b[0m 1ms/step - loss: 0.0130 - mae: 0.0130 - mape: 396.5338 - val_loss: 0.0123 - val_mae: 0.0123 - val_mape: 5.3202\n",
      "Epoch 19/30\n",
      "\u001b[1m2641/2653\u001b[0m \u001b[32m━━━━━━━━━━━━━━━━━━━\u001b[0m\u001b[37m━\u001b[0m \u001b[1m0s\u001b[0m 1ms/step - loss: 0.0127 - mae: 0.0127 - mape: 1044.4982\n",
      "Epoch 19: val_loss did not improve from 0.01203\n",
      "\u001b[1m2653/2653\u001b[0m \u001b[32m━━━━━━━━━━━━━━━━━━━━\u001b[0m\u001b[37m\u001b[0m \u001b[1m4s\u001b[0m 2ms/step - loss: 0.0127 - mae: 0.0127 - mape: 1041.8085 - val_loss: 0.0136 - val_mae: 0.0136 - val_mape: 6.1127\n",
      "Epoch 20/30\n",
      "\u001b[1m2649/2653\u001b[0m \u001b[32m━━━━━━━━━━━━━━━━━━━\u001b[0m\u001b[37m━\u001b[0m \u001b[1m0s\u001b[0m 1ms/step - loss: 0.0126 - mae: 0.0126 - mape: 100.8587\n",
      "Epoch 20: val_loss improved from 0.01203 to 0.01146, saving model to C:\\Users\\PMLS\\shahid (ML-lab)\\lab7\\\\E1-cp-0020-loss0.01.h5\n"
     ]
    },
    {
     "name": "stderr",
     "output_type": "stream",
     "text": [
      "WARNING:absl:You are saving your model as an HDF5 file via `model.save()` or `keras.saving.save_model(model)`. This file format is considered legacy. We recommend using instead the native Keras format, e.g. `model.save('my_model.keras')` or `keras.saving.save_model(model, 'my_model.keras')`. \n"
     ]
    },
    {
     "name": "stdout",
     "output_type": "stream",
     "text": [
      "\u001b[1m2653/2653\u001b[0m \u001b[32m━━━━━━━━━━━━━━━━━━━━\u001b[0m\u001b[37m\u001b[0m \u001b[1m4s\u001b[0m 2ms/step - loss: 0.0126 - mae: 0.0126 - mape: 100.9790 - val_loss: 0.0115 - val_mae: 0.0115 - val_mape: 5.0339\n",
      "Epoch 21/30\n",
      "\u001b[1m2643/2653\u001b[0m \u001b[32m━━━━━━━━━━━━━━━━━━━\u001b[0m\u001b[37m━\u001b[0m \u001b[1m0s\u001b[0m 1ms/step - loss: 0.0126 - mae: 0.0126 - mape: 118.7674\n",
      "Epoch 21: val_loss did not improve from 0.01146\n",
      "\u001b[1m2653/2653\u001b[0m \u001b[32m━━━━━━━━━━━━━━━━━━━━\u001b[0m\u001b[37m\u001b[0m \u001b[1m4s\u001b[0m 2ms/step - loss: 0.0126 - mae: 0.0126 - mape: 120.1510 - val_loss: 0.0138 - val_mae: 0.0138 - val_mape: 6.1919\n",
      "Epoch 22/30\n",
      "\u001b[1m2653/2653\u001b[0m \u001b[32m━━━━━━━━━━━━━━━━━━━━\u001b[0m\u001b[37m\u001b[0m \u001b[1m0s\u001b[0m 1ms/step - loss: 0.0125 - mae: 0.0125 - mape: 164.3900\n",
      "Epoch 22: val_loss did not improve from 0.01146\n",
      "\u001b[1m2653/2653\u001b[0m \u001b[32m━━━━━━━━━━━━━━━━━━━━\u001b[0m\u001b[37m\u001b[0m \u001b[1m4s\u001b[0m 2ms/step - loss: 0.0125 - mae: 0.0125 - mape: 164.5240 - val_loss: 0.0123 - val_mae: 0.0123 - val_mape: 5.5259\n",
      "Epoch 23/30\n",
      "\u001b[1m2630/2653\u001b[0m \u001b[32m━━━━━━━━━━━━━━━━━━━\u001b[0m\u001b[37m━\u001b[0m \u001b[1m0s\u001b[0m 1ms/step - loss: 0.0124 - mae: 0.0124 - mape: 29.8228\n",
      "Epoch 23: val_loss improved from 0.01146 to 0.01137, saving model to C:\\Users\\PMLS\\shahid (ML-lab)\\lab7\\\\E1-cp-0023-loss0.01.h5\n"
     ]
    },
    {
     "name": "stderr",
     "output_type": "stream",
     "text": [
      "WARNING:absl:You are saving your model as an HDF5 file via `model.save()` or `keras.saving.save_model(model)`. This file format is considered legacy. We recommend using instead the native Keras format, e.g. `model.save('my_model.keras')` or `keras.saving.save_model(model, 'my_model.keras')`. \n"
     ]
    },
    {
     "name": "stdout",
     "output_type": "stream",
     "text": [
      "\u001b[1m2653/2653\u001b[0m \u001b[32m━━━━━━━━━━━━━━━━━━━━\u001b[0m\u001b[37m\u001b[0m \u001b[1m4s\u001b[0m 1ms/step - loss: 0.0124 - mae: 0.0124 - mape: 32.8274 - val_loss: 0.0114 - val_mae: 0.0114 - val_mape: 4.9056\n",
      "Epoch 24/30\n",
      "\u001b[1m2627/2653\u001b[0m \u001b[32m━━━━━━━━━━━━━━━━━━━\u001b[0m\u001b[37m━\u001b[0m \u001b[1m0s\u001b[0m 1ms/step - loss: 0.0124 - mae: 0.0124 - mape: 791.6733\n",
      "Epoch 24: val_loss did not improve from 0.01137\n",
      "\u001b[1m2653/2653\u001b[0m \u001b[32m━━━━━━━━━━━━━━━━━━━━\u001b[0m\u001b[37m\u001b[0m \u001b[1m4s\u001b[0m 1ms/step - loss: 0.0124 - mae: 0.0124 - mape: 787.5219 - val_loss: 0.0156 - val_mae: 0.0156 - val_mape: 7.4412\n",
      "Epoch 25/30\n",
      "\u001b[1m2626/2653\u001b[0m \u001b[32m━━━━━━━━━━━━━━━━━━━\u001b[0m\u001b[37m━\u001b[0m \u001b[1m0s\u001b[0m 1ms/step - loss: 0.0125 - mae: 0.0125 - mape: 323.6113\n",
      "Epoch 25: val_loss did not improve from 0.01137\n",
      "\u001b[1m2653/2653\u001b[0m \u001b[32m━━━━━━━━━━━━━━━━━━━━\u001b[0m\u001b[37m\u001b[0m \u001b[1m4s\u001b[0m 1ms/step - loss: 0.0125 - mae: 0.0125 - mape: 325.4000 - val_loss: 0.0137 - val_mae: 0.0137 - val_mape: 5.8589\n",
      "Epoch 26/30\n",
      "\u001b[1m2652/2653\u001b[0m \u001b[32m━━━━━━━━━━━━━━━━━━━\u001b[0m\u001b[37m━\u001b[0m \u001b[1m0s\u001b[0m 1ms/step - loss: 0.0124 - mae: 0.0124 - mape: 1968.9717\n",
      "Epoch 26: val_loss did not improve from 0.01137\n",
      "\u001b[1m2653/2653\u001b[0m \u001b[32m━━━━━━━━━━━━━━━━━━━━\u001b[0m\u001b[37m\u001b[0m \u001b[1m4s\u001b[0m 1ms/step - loss: 0.0124 - mae: 0.0124 - mape: 1967.8571 - val_loss: 0.0142 - val_mae: 0.0142 - val_mape: 6.3794\n",
      "Epoch 27/30\n",
      "\u001b[1m2651/2653\u001b[0m \u001b[32m━━━━━━━━━━━━━━━━━━━\u001b[0m\u001b[37m━\u001b[0m \u001b[1m0s\u001b[0m 1ms/step - loss: 0.0122 - mae: 0.0122 - mape: 11.9490\n",
      "Epoch 27: val_loss did not improve from 0.01137\n",
      "\u001b[1m2653/2653\u001b[0m \u001b[32m━━━━━━━━━━━━━━━━━━━━\u001b[0m\u001b[37m\u001b[0m \u001b[1m4s\u001b[0m 1ms/step - loss: 0.0122 - mae: 0.0122 - mape: 12.5444 - val_loss: 0.0115 - val_mae: 0.0115 - val_mape: 4.9437\n",
      "Epoch 28/30\n",
      "\u001b[1m2638/2653\u001b[0m \u001b[32m━━━━━━━━━━━━━━━━━━━\u001b[0m\u001b[37m━\u001b[0m \u001b[1m0s\u001b[0m 1ms/step - loss: 0.0120 - mae: 0.0120 - mape: 169.6025\n",
      "Epoch 28: val_loss did not improve from 0.01137\n",
      "\u001b[1m2653/2653\u001b[0m \u001b[32m━━━━━━━━━━━━━━━━━━━━\u001b[0m\u001b[37m\u001b[0m \u001b[1m4s\u001b[0m 1ms/step - loss: 0.0120 - mae: 0.0120 - mape: 170.7755 - val_loss: 0.0126 - val_mae: 0.0126 - val_mape: 6.2218\n",
      "Epoch 29/30\n",
      "\u001b[1m2641/2653\u001b[0m \u001b[32m━━━━━━━━━━━━━━━━━━━\u001b[0m\u001b[37m━\u001b[0m \u001b[1m0s\u001b[0m 1ms/step - loss: 0.0119 - mae: 0.0119 - mape: 1452.8234\n",
      "Epoch 29: val_loss did not improve from 0.01137\n",
      "\u001b[1m2653/2653\u001b[0m \u001b[32m━━━━━━━━━━━━━━━━━━━━\u001b[0m\u001b[37m\u001b[0m \u001b[1m4s\u001b[0m 1ms/step - loss: 0.0119 - mae: 0.0119 - mape: 1447.9628 - val_loss: 0.0144 - val_mae: 0.0144 - val_mape: 7.0301\n",
      "Epoch 30/30\n",
      "\u001b[1m2639/2653\u001b[0m \u001b[32m━━━━━━━━━━━━━━━━━━━\u001b[0m\u001b[37m━\u001b[0m \u001b[1m0s\u001b[0m 1ms/step - loss: 0.0119 - mae: 0.0119 - mape: 568.6638\n",
      "Epoch 30: val_loss did not improve from 0.01137\n",
      "\u001b[1m2653/2653\u001b[0m \u001b[32m━━━━━━━━━━━━━━━━━━━━\u001b[0m\u001b[37m\u001b[0m \u001b[1m4s\u001b[0m 1ms/step - loss: 0.0119 - mae: 0.0119 - mape: 568.2905 - val_loss: 0.0127 - val_mae: 0.0127 - val_mape: 5.8751\n"
     ]
    }
   ],
   "source": [
    "epochs = 30\n",
    "verbose = 1 #0\n",
    "batch_size = 32\n",
    "History = model.fit(train_X,\n",
    "                        train_y,\n",
    "                        batch_size=batch_size,   \n",
    "                        epochs = epochs, \n",
    "                        validation_data = (validation_X,validation_y),\n",
    "                        callbacks=callbacks,\n",
    "                    verbose = verbose)"
   ]
  },
  {
   "cell_type": "code",
   "execution_count": null,
   "metadata": {},
   "outputs": [
    {
     "name": "stderr",
     "output_type": "stream",
     "text": [
      "WARNING:absl:Compiled the loaded model, but the compiled metrics have yet to be built. `model.compile_metrics` will be empty until you train or evaluate the model.\n"
     ]
    },
    {
     "name": "stdout",
     "output_type": "stream",
     "text": [
      "\u001b[1m379/379\u001b[0m \u001b[32m━━━━━━━━━━━━━━━━━━━━\u001b[0m\u001b[37m\u001b[0m \u001b[1m0s\u001b[0m 702us/step\n",
      "Mean Absolute Error (MAE): 183.65\n",
      "Median Absolute Error (MedAE): 154.52\n",
      "Mean Squared Error (MSE): 54497.9\n",
      "Root Mean Squared Error (RMSE): 233.45\n",
      "Mean Absolute Percentage Error (MAPE): 1.25 %\n",
      "Median Absolute Percentage Error (MDAPE): 1.07 %\n",
      "\n",
      "\n",
      "y_test_unscaled.shape=  (12105, 1)\n",
      "y_pred.shape=  (12105, 1)\n"
     ]
    }
   ],
   "source": [
    "\n",
    "model = load_model(r'C:\\Users\\Talha Ali\\Desktop\\machine learning labs\\E1-cp-0023-loss0.01.h5',\n",
    "                   custom_objects={'mae': mean_absolute_error})\n",
    "\n",
    "\n",
    "y_pred_scaled   = model.predict(test_X)\n",
    "y_pred          = scaler.inverse_transform(y_pred_scaled)\n",
    "y_test_unscaled = scaler.inverse_transform(test_y)\n",
    "# Mean Absolute Error (MAE)\n",
    "MAE = np.mean(abs(y_pred - y_test_unscaled)) \n",
    "print('Mean Absolute Error (MAE): ' + str(np.round(MAE, 2)))\n",
    "\n",
    "# Median Absolute Error (MedAE)\n",
    "MEDAE = np.median(abs(y_pred - y_test_unscaled))\n",
    "print('Median Absolute Error (MedAE): ' + str(np.round(MEDAE, 2)))\n",
    "\n",
    "# Mean Squared Error (MSE)\n",
    "MSE = np.square(np.subtract(y_pred, y_test_unscaled)).mean()\n",
    "print('Mean Squared Error (MSE): ' + str(np.round(MSE, 2)))\n",
    "\n",
    "# Root Mean Squarred Error (RMSE) \n",
    "RMSE = np.sqrt(np.mean(np.square(y_pred - y_test_unscaled)))\n",
    "print('Root Mean Squared Error (RMSE): ' + str(np.round(RMSE, 2)))\n",
    "\n",
    "# Mean Absolute Percentage Error (MAPE)\n",
    "MAPE = np.mean((np.abs(np.subtract(y_test_unscaled, y_pred)/ y_test_unscaled))) * 100\n",
    "print('Mean Absolute Percentage Error (MAPE): ' + str(np.round(MAPE, 2)) + ' %')\n",
    "\n",
    "# Median Absolute Percentage Error (MDAPE)\n",
    "MDAPE = np.median((np.abs(np.subtract(y_test_unscaled, y_pred)/ y_test_unscaled))) * 100\n",
    "print('Median Absolute Percentage Error (MDAPE): ' + str(np.round(MDAPE, 2)) + ' %')\n",
    "\n",
    "print('\\n\\ny_test_unscaled.shape= ',y_test_unscaled.shape)\n",
    "print('y_pred.shape= ',y_pred.shape)"
   ]
  },
  {
   "cell_type": "markdown",
   "metadata": {},
   "source": [
    "# Fine Tuning"
   ]
  },
  {
   "cell_type": "code",
   "execution_count": null,
   "metadata": {},
   "outputs": [],
   "source": [
    "checkpoints = r'C:\\Users\\Talha Ali\\Desktop\\machine learning labslab8\\E2-cp-{epoch:04d}-loss{val_loss:.2f}.h5'\n",
    "model=r'C:\\Users\\Talha Ali\\Desktop\\machine learning labs\\lab7\\E1-cp-0023-loss0.01.h5'\n",
    "start_epoch= 20"
   ]
  },
  {
   "cell_type": "code",
   "execution_count": null,
   "metadata": {},
   "outputs": [
    {
     "name": "stdout",
     "output_type": "stream",
     "text": [
      "[INFO] No checkpoint found. Compiling new model...\n"
     ]
    },
    {
     "name": "stderr",
     "output_type": "stream",
     "text": [
      "C:\\Users\\PMLS\\anaconda3\\Lib\\site-packages\\keras\\src\\layers\\core\\input_layer.py:27: UserWarning: Argument `input_shape` is deprecated. Use `shape` instead.\n",
      "  warnings.warn(\n"
     ]
    }
   ],
   "source": [
    "import os\n",
    "from keras.models import Sequential, load_model\n",
    "from keras.layers import LSTM, Dense, InputLayer\n",
    "from keras.optimizers import Adam\n",
    "from keras.callbacks import ModelCheckpoint\n",
    "import keras.backend as K\n",
    "\n",
    "# Define your model builder function (replace PC.build)\n",
    "def build_model(time_steps, num_features, reg=0.0005):\n",
    "    model = Sequential()\n",
    "    model.add(InputLayer(input_shape=(time_steps, num_features)))\n",
    "    model.add(LSTM(64, return_sequences=False))\n",
    "    model.add(Dense(1))  # Adjust output layer size according to your task\n",
    "    return model\n",
    "\n",
    "\n",
    "# Path to save/load your model checkpoint\n",
    "model_path = r'C:\\Users\\Talha Ali\\Desktop\\machine learning labs\\E2-cp-{epoch:04d}-loss{val_loss:.2f}.h5'\n",
    "\n",
    "# Construct the callback to save only the *best* model based on validation loss\n",
    "EpochCheckpoint1 = ModelCheckpoint(\n",
    "    model_path,\n",
    "    monitor=\"val_loss\",\n",
    "    save_best_only=True,\n",
    "    verbose=1\n",
    ")\n",
    "\n",
    "# Construct the set of callbacks\n",
    "callbacks = [EpochCheckpoint1]\n",
    "\n",
    "# Variable 'model' for holding your model object\n",
    "model = None\n",
    "\n",
    "# Check if checkpoint file exists\n",
    "if not os.path.exists(model_path):\n",
    "    print(\"[INFO] No checkpoint found. Compiling new model...\")\n",
    "    model = build_model(time_steps=24, num_features=21, reg=0.0005)\n",
    "    opt = Adam(learning_rate=1e-3)\n",
    "    model.compile(loss=\"mae\", optimizer=opt, metrics=[\"mae\", \"mape\"])\n",
    "else:\n",
    "    print(f\"[INFO] Loading model from {model_path} ...\")\n",
    "    model = load_model(model_path)\n",
    "\n",
    "    # Update the learning rate\n",
    "    print(f\"[INFO] Old learning rate: {K.get_value(model.optimizer.lr)}\")\n",
    "    K.set_value(model.optimizer.lr, 1e-4)\n",
    "    print(f\"[INFO] New learning rate: {K.get_value(model.optimizer.lr)}\")\n",
    "\n",
    "# Now you can train your model with callbacks\n",
    "# Example:\n",
    "# model.fit(train_data, train_labels, validation_data=(val_data, val_labels), epochs=..., callbacks=callbacks)\n"
   ]
  },
  {
   "cell_type": "code",
   "execution_count": 65,
   "metadata": {},
   "outputs": [
    {
     "name": "stdout",
     "output_type": "stream",
     "text": [
      "Epoch 1/20\n",
      "\u001b[1m2652/2653\u001b[0m \u001b[32m━━━━━━━━━━━━━━━━━━━\u001b[0m\u001b[37m━\u001b[0m \u001b[1m0s\u001b[0m 6ms/step - loss: 0.0423 - mae: 0.0423 - mape: 237.9978\n",
      "Epoch 1: val_loss improved from inf to 0.01378, saving model to C:\\Users\\PMLS\\shahid (ML-lab)\\lab7\\E2-cp-0001-loss0.01.h5\n"
     ]
    },
    {
     "name": "stderr",
     "output_type": "stream",
     "text": [
      "WARNING:absl:You are saving your model as an HDF5 file via `model.save()` or `keras.saving.save_model(model)`. This file format is considered legacy. We recommend using instead the native Keras format, e.g. `model.save('my_model.keras')` or `keras.saving.save_model(model, 'my_model.keras')`. \n"
     ]
    },
    {
     "name": "stdout",
     "output_type": "stream",
     "text": [
      "\u001b[1m2653/2653\u001b[0m \u001b[32m━━━━━━━━━━━━━━━━━━━━\u001b[0m\u001b[37m\u001b[0m \u001b[1m22s\u001b[0m 7ms/step - loss: 0.0423 - mae: 0.0423 - mape: 238.0196 - val_loss: 0.0138 - val_mae: 0.0138 - val_mape: 6.0630\n",
      "Epoch 2/20\n",
      "\u001b[1m2646/2653\u001b[0m \u001b[32m━━━━━━━━━━━━━━━━━━━\u001b[0m\u001b[37m━\u001b[0m \u001b[1m0s\u001b[0m 6ms/step - loss: 0.0130 - mae: 0.0130 - mape: 85.9563\n",
      "Epoch 2: val_loss improved from 0.01378 to 0.00916, saving model to C:\\Users\\PMLS\\shahid (ML-lab)\\lab7\\E2-cp-0002-loss0.01.h5\n"
     ]
    },
    {
     "name": "stderr",
     "output_type": "stream",
     "text": [
      "WARNING:absl:You are saving your model as an HDF5 file via `model.save()` or `keras.saving.save_model(model)`. This file format is considered legacy. We recommend using instead the native Keras format, e.g. `model.save('my_model.keras')` or `keras.saving.save_model(model, 'my_model.keras')`. \n"
     ]
    },
    {
     "name": "stdout",
     "output_type": "stream",
     "text": [
      "\u001b[1m2653/2653\u001b[0m \u001b[32m━━━━━━━━━━━━━━━━━━━━\u001b[0m\u001b[37m\u001b[0m \u001b[1m18s\u001b[0m 7ms/step - loss: 0.0130 - mae: 0.0130 - mape: 86.0859 - val_loss: 0.0092 - val_mae: 0.0092 - val_mape: 4.0743\n",
      "Epoch 3/20\n",
      "\u001b[1m2649/2653\u001b[0m \u001b[32m━━━━━━━━━━━━━━━━━━━\u001b[0m\u001b[37m━\u001b[0m \u001b[1m0s\u001b[0m 6ms/step - loss: 0.0100 - mae: 0.0100 - mape: 129.9615\n",
      "Epoch 3: val_loss did not improve from 0.00916\n",
      "\u001b[1m2653/2653\u001b[0m \u001b[32m━━━━━━━━━━━━━━━━━━━━\u001b[0m\u001b[37m\u001b[0m \u001b[1m18s\u001b[0m 7ms/step - loss: 0.0100 - mae: 0.0100 - mape: 129.8133 - val_loss: 0.0095 - val_mae: 0.0095 - val_mape: 3.9440\n",
      "Epoch 4/20\n",
      "\u001b[1m2645/2653\u001b[0m \u001b[32m━━━━━━━━━━━━━━━━━━━\u001b[0m\u001b[37m━\u001b[0m \u001b[1m0s\u001b[0m 6ms/step - loss: 0.0093 - mae: 0.0093 - mape: 335.5127\n",
      "Epoch 4: val_loss improved from 0.00916 to 0.00830, saving model to C:\\Users\\PMLS\\shahid (ML-lab)\\lab7\\E2-cp-0004-loss0.01.h5\n"
     ]
    },
    {
     "name": "stderr",
     "output_type": "stream",
     "text": [
      "WARNING:absl:You are saving your model as an HDF5 file via `model.save()` or `keras.saving.save_model(model)`. This file format is considered legacy. We recommend using instead the native Keras format, e.g. `model.save('my_model.keras')` or `keras.saving.save_model(model, 'my_model.keras')`. \n"
     ]
    },
    {
     "name": "stdout",
     "output_type": "stream",
     "text": [
      "\u001b[1m2653/2653\u001b[0m \u001b[32m━━━━━━━━━━━━━━━━━━━━\u001b[0m\u001b[37m\u001b[0m \u001b[1m18s\u001b[0m 7ms/step - loss: 0.0093 - mae: 0.0093 - mape: 334.8712 - val_loss: 0.0083 - val_mae: 0.0083 - val_mape: 3.7727\n",
      "Epoch 5/20\n",
      "\u001b[1m2646/2653\u001b[0m \u001b[32m━━━━━━━━━━━━━━━━━━━\u001b[0m\u001b[37m━\u001b[0m \u001b[1m0s\u001b[0m 6ms/step - loss: 0.0086 - mae: 0.0086 - mape: 8.2427\n",
      "Epoch 5: val_loss improved from 0.00830 to 0.00807, saving model to C:\\Users\\PMLS\\shahid (ML-lab)\\lab7\\E2-cp-0005-loss0.01.h5\n"
     ]
    },
    {
     "name": "stderr",
     "output_type": "stream",
     "text": [
      "WARNING:absl:You are saving your model as an HDF5 file via `model.save()` or `keras.saving.save_model(model)`. This file format is considered legacy. We recommend using instead the native Keras format, e.g. `model.save('my_model.keras')` or `keras.saving.save_model(model, 'my_model.keras')`. \n"
     ]
    },
    {
     "name": "stdout",
     "output_type": "stream",
     "text": [
      "\u001b[1m2653/2653\u001b[0m \u001b[32m━━━━━━━━━━━━━━━━━━━━\u001b[0m\u001b[37m\u001b[0m \u001b[1m18s\u001b[0m 7ms/step - loss: 0.0086 - mae: 0.0086 - mape: 8.5244 - val_loss: 0.0081 - val_mae: 0.0081 - val_mape: 3.4262\n",
      "Epoch 6/20\n",
      "\u001b[1m2652/2653\u001b[0m \u001b[32m━━━━━━━━━━━━━━━━━━━\u001b[0m\u001b[37m━\u001b[0m \u001b[1m0s\u001b[0m 6ms/step - loss: 0.0083 - mae: 0.0083 - mape: 18.6127\n",
      "Epoch 6: val_loss improved from 0.00807 to 0.00769, saving model to C:\\Users\\PMLS\\shahid (ML-lab)\\lab7\\E2-cp-0006-loss0.01.h5\n"
     ]
    },
    {
     "name": "stderr",
     "output_type": "stream",
     "text": [
      "WARNING:absl:You are saving your model as an HDF5 file via `model.save()` or `keras.saving.save_model(model)`. This file format is considered legacy. We recommend using instead the native Keras format, e.g. `model.save('my_model.keras')` or `keras.saving.save_model(model, 'my_model.keras')`. \n"
     ]
    },
    {
     "name": "stdout",
     "output_type": "stream",
     "text": [
      "\u001b[1m2653/2653\u001b[0m \u001b[32m━━━━━━━━━━━━━━━━━━━━\u001b[0m\u001b[37m\u001b[0m \u001b[1m18s\u001b[0m 7ms/step - loss: 0.0083 - mae: 0.0083 - mape: 18.6995 - val_loss: 0.0077 - val_mae: 0.0077 - val_mape: 3.5476\n",
      "Epoch 7/20\n",
      "\u001b[1m2648/2653\u001b[0m \u001b[32m━━━━━━━━━━━━━━━━━━━\u001b[0m\u001b[37m━\u001b[0m \u001b[1m0s\u001b[0m 6ms/step - loss: 0.0079 - mae: 0.0079 - mape: 32.3548\n",
      "Epoch 7: val_loss improved from 0.00769 to 0.00767, saving model to C:\\Users\\PMLS\\shahid (ML-lab)\\lab7\\E2-cp-0007-loss0.01.h5\n"
     ]
    },
    {
     "name": "stderr",
     "output_type": "stream",
     "text": [
      "WARNING:absl:You are saving your model as an HDF5 file via `model.save()` or `keras.saving.save_model(model)`. This file format is considered legacy. We recommend using instead the native Keras format, e.g. `model.save('my_model.keras')` or `keras.saving.save_model(model, 'my_model.keras')`. \n"
     ]
    },
    {
     "name": "stdout",
     "output_type": "stream",
     "text": [
      "\u001b[1m2653/2653\u001b[0m \u001b[32m━━━━━━━━━━━━━━━━━━━━\u001b[0m\u001b[37m\u001b[0m \u001b[1m18s\u001b[0m 7ms/step - loss: 0.0079 - mae: 0.0079 - mape: 32.5964 - val_loss: 0.0077 - val_mae: 0.0077 - val_mape: 3.2573\n",
      "Epoch 8/20\n",
      "\u001b[1m2651/2653\u001b[0m \u001b[32m━━━━━━━━━━━━━━━━━━━\u001b[0m\u001b[37m━\u001b[0m \u001b[1m0s\u001b[0m 6ms/step - loss: 0.0076 - mae: 0.0076 - mape: 19.7469\n",
      "Epoch 8: val_loss improved from 0.00767 to 0.00725, saving model to C:\\Users\\PMLS\\shahid (ML-lab)\\lab7\\E2-cp-0008-loss0.01.h5\n"
     ]
    },
    {
     "name": "stderr",
     "output_type": "stream",
     "text": [
      "WARNING:absl:You are saving your model as an HDF5 file via `model.save()` or `keras.saving.save_model(model)`. This file format is considered legacy. We recommend using instead the native Keras format, e.g. `model.save('my_model.keras')` or `keras.saving.save_model(model, 'my_model.keras')`. \n"
     ]
    },
    {
     "name": "stdout",
     "output_type": "stream",
     "text": [
      "\u001b[1m2653/2653\u001b[0m \u001b[32m━━━━━━━━━━━━━━━━━━━━\u001b[0m\u001b[37m\u001b[0m \u001b[1m18s\u001b[0m 7ms/step - loss: 0.0076 - mae: 0.0076 - mape: 19.9140 - val_loss: 0.0072 - val_mae: 0.0072 - val_mape: 3.2303\n",
      "Epoch 9/20\n",
      "\u001b[1m2653/2653\u001b[0m \u001b[32m━━━━━━━━━━━━━━━━━━━━\u001b[0m\u001b[37m\u001b[0m \u001b[1m0s\u001b[0m 6ms/step - loss: 0.0074 - mae: 0.0074 - mape: 5.4551\n",
      "Epoch 9: val_loss did not improve from 0.00725\n",
      "\u001b[1m2653/2653\u001b[0m \u001b[32m━━━━━━━━━━━━━━━━━━━━\u001b[0m\u001b[37m\u001b[0m \u001b[1m18s\u001b[0m 7ms/step - loss: 0.0074 - mae: 0.0074 - mape: 5.4558 - val_loss: 0.0073 - val_mae: 0.0073 - val_mape: 3.7782\n",
      "Epoch 10/20\n",
      "\u001b[1m2652/2653\u001b[0m \u001b[32m━━━━━━━━━━━━━━━━━━━\u001b[0m\u001b[37m━\u001b[0m \u001b[1m0s\u001b[0m 6ms/step - loss: 0.0072 - mae: 0.0072 - mape: 4.5572\n",
      "Epoch 10: val_loss did not improve from 0.00725\n",
      "\u001b[1m2653/2653\u001b[0m \u001b[32m━━━━━━━━━━━━━━━━━━━━\u001b[0m\u001b[37m\u001b[0m \u001b[1m19s\u001b[0m 7ms/step - loss: 0.0072 - mae: 0.0072 - mape: 4.6385 - val_loss: 0.0086 - val_mae: 0.0086 - val_mape: 3.8581\n",
      "Epoch 11/20\n",
      "\u001b[1m2649/2653\u001b[0m \u001b[32m━━━━━━━━━━━━━━━━━━━\u001b[0m\u001b[37m━\u001b[0m \u001b[1m0s\u001b[0m 7ms/step - loss: 0.0070 - mae: 0.0070 - mape: 72.6693\n",
      "Epoch 11: val_loss improved from 0.00725 to 0.00657, saving model to C:\\Users\\PMLS\\shahid (ML-lab)\\lab7\\E2-cp-0011-loss0.01.h5\n"
     ]
    },
    {
     "name": "stderr",
     "output_type": "stream",
     "text": [
      "WARNING:absl:You are saving your model as an HDF5 file via `model.save()` or `keras.saving.save_model(model)`. This file format is considered legacy. We recommend using instead the native Keras format, e.g. `model.save('my_model.keras')` or `keras.saving.save_model(model, 'my_model.keras')`. \n"
     ]
    },
    {
     "name": "stdout",
     "output_type": "stream",
     "text": [
      "\u001b[1m2653/2653\u001b[0m \u001b[32m━━━━━━━━━━━━━━━━━━━━\u001b[0m\u001b[37m\u001b[0m \u001b[1m25s\u001b[0m 9ms/step - loss: 0.0070 - mae: 0.0070 - mape: 72.8811 - val_loss: 0.0066 - val_mae: 0.0066 - val_mape: 2.9127\n",
      "Epoch 12/20\n",
      "\u001b[1m2652/2653\u001b[0m \u001b[32m━━━━━━━━━━━━━━━━━━━\u001b[0m\u001b[37m━\u001b[0m \u001b[1m0s\u001b[0m 7ms/step - loss: 0.0070 - mae: 0.0070 - mape: 51.8051\n",
      "Epoch 12: val_loss improved from 0.00657 to 0.00640, saving model to C:\\Users\\PMLS\\shahid (ML-lab)\\lab7\\E2-cp-0012-loss0.01.h5\n"
     ]
    },
    {
     "name": "stderr",
     "output_type": "stream",
     "text": [
      "WARNING:absl:You are saving your model as an HDF5 file via `model.save()` or `keras.saving.save_model(model)`. This file format is considered legacy. We recommend using instead the native Keras format, e.g. `model.save('my_model.keras')` or `keras.saving.save_model(model, 'my_model.keras')`. \n"
     ]
    },
    {
     "name": "stdout",
     "output_type": "stream",
     "text": [
      "\u001b[1m2653/2653\u001b[0m \u001b[32m━━━━━━━━━━━━━━━━━━━━\u001b[0m\u001b[37m\u001b[0m \u001b[1m38s\u001b[0m 8ms/step - loss: 0.0070 - mae: 0.0070 - mape: 51.7886 - val_loss: 0.0064 - val_mae: 0.0064 - val_mape: 2.6120\n",
      "Epoch 13/20\n",
      "\u001b[1m2649/2653\u001b[0m \u001b[32m━━━━━━━━━━━━━━━━━━━\u001b[0m\u001b[37m━\u001b[0m \u001b[1m0s\u001b[0m 6ms/step - loss: 0.0067 - mae: 0.0067 - mape: 129.9682\n",
      "Epoch 13: val_loss did not improve from 0.00640\n",
      "\u001b[1m2653/2653\u001b[0m \u001b[32m━━━━━━━━━━━━━━━━━━━━\u001b[0m\u001b[37m\u001b[0m \u001b[1m18s\u001b[0m 7ms/step - loss: 0.0067 - mae: 0.0067 - mape: 129.9645 - val_loss: 0.0068 - val_mae: 0.0068 - val_mape: 2.8448\n",
      "Epoch 14/20\n",
      "\u001b[1m2645/2653\u001b[0m \u001b[32m━━━━━━━━━━━━━━━━━━━\u001b[0m\u001b[37m━\u001b[0m \u001b[1m0s\u001b[0m 6ms/step - loss: 0.0068 - mae: 0.0068 - mape: 25.7263\n",
      "Epoch 14: val_loss did not improve from 0.00640\n",
      "\u001b[1m2653/2653\u001b[0m \u001b[32m━━━━━━━━━━━━━━━━━━━━\u001b[0m\u001b[37m\u001b[0m \u001b[1m19s\u001b[0m 7ms/step - loss: 0.0068 - mae: 0.0068 - mape: 25.8537 - val_loss: 0.0066 - val_mae: 0.0066 - val_mape: 2.7657\n",
      "Epoch 15/20\n",
      "\u001b[1m2653/2653\u001b[0m \u001b[32m━━━━━━━━━━━━━━━━━━━━\u001b[0m\u001b[37m\u001b[0m \u001b[1m0s\u001b[0m 6ms/step - loss: 0.0067 - mae: 0.0067 - mape: 26.9499\n",
      "Epoch 15: val_loss did not improve from 0.00640\n",
      "\u001b[1m2653/2653\u001b[0m \u001b[32m━━━━━━━━━━━━━━━━━━━━\u001b[0m\u001b[37m\u001b[0m \u001b[1m18s\u001b[0m 7ms/step - loss: 0.0067 - mae: 0.0067 - mape: 26.9816 - val_loss: 0.0066 - val_mae: 0.0066 - val_mape: 2.8169\n",
      "Epoch 16/20\n",
      "\u001b[1m2647/2653\u001b[0m \u001b[32m━━━━━━━━━━━━━━━━━━━\u001b[0m\u001b[37m━\u001b[0m \u001b[1m0s\u001b[0m 6ms/step - loss: 0.0066 - mae: 0.0066 - mape: 47.5016\n",
      "Epoch 16: val_loss improved from 0.00640 to 0.00611, saving model to C:\\Users\\PMLS\\shahid (ML-lab)\\lab7\\E2-cp-0016-loss0.01.h5\n"
     ]
    },
    {
     "name": "stderr",
     "output_type": "stream",
     "text": [
      "WARNING:absl:You are saving your model as an HDF5 file via `model.save()` or `keras.saving.save_model(model)`. This file format is considered legacy. We recommend using instead the native Keras format, e.g. `model.save('my_model.keras')` or `keras.saving.save_model(model, 'my_model.keras')`. \n"
     ]
    },
    {
     "name": "stdout",
     "output_type": "stream",
     "text": [
      "\u001b[1m2653/2653\u001b[0m \u001b[32m━━━━━━━━━━━━━━━━━━━━\u001b[0m\u001b[37m\u001b[0m \u001b[1m19s\u001b[0m 7ms/step - loss: 0.0066 - mae: 0.0066 - mape: 47.4932 - val_loss: 0.0061 - val_mae: 0.0061 - val_mape: 2.5736\n",
      "Epoch 17/20\n",
      "\u001b[1m2646/2653\u001b[0m \u001b[32m━━━━━━━━━━━━━━━━━━━\u001b[0m\u001b[37m━\u001b[0m \u001b[1m0s\u001b[0m 6ms/step - loss: 0.0065 - mae: 0.0065 - mape: 35.1273\n",
      "Epoch 17: val_loss did not improve from 0.00611\n",
      "\u001b[1m2653/2653\u001b[0m \u001b[32m━━━━━━━━━━━━━━━━━━━━\u001b[0m\u001b[37m\u001b[0m \u001b[1m18s\u001b[0m 7ms/step - loss: 0.0065 - mae: 0.0065 - mape: 35.1861 - val_loss: 0.0082 - val_mae: 0.0082 - val_mape: 3.4926\n",
      "Epoch 18/20\n",
      "\u001b[1m2648/2653\u001b[0m \u001b[32m━━━━━━━━━━━━━━━━━━━\u001b[0m\u001b[37m━\u001b[0m \u001b[1m0s\u001b[0m 6ms/step - loss: 0.0065 - mae: 0.0065 - mape: 9.8925\n",
      "Epoch 18: val_loss did not improve from 0.00611\n",
      "\u001b[1m2653/2653\u001b[0m \u001b[32m━━━━━━━━━━━━━━━━━━━━\u001b[0m\u001b[37m\u001b[0m \u001b[1m19s\u001b[0m 7ms/step - loss: 0.0065 - mae: 0.0065 - mape: 9.9597 - val_loss: 0.0079 - val_mae: 0.0079 - val_mape: 3.4738\n",
      "Epoch 19/20\n",
      "\u001b[1m2649/2653\u001b[0m \u001b[32m━━━━━━━━━━━━━━━━━━━\u001b[0m\u001b[37m━\u001b[0m \u001b[1m0s\u001b[0m 6ms/step - loss: 0.0064 - mae: 0.0064 - mape: 4.4320\n",
      "Epoch 19: val_loss did not improve from 0.00611\n",
      "\u001b[1m2653/2653\u001b[0m \u001b[32m━━━━━━━━━━━━━━━━━━━━\u001b[0m\u001b[37m\u001b[0m \u001b[1m19s\u001b[0m 7ms/step - loss: 0.0064 - mae: 0.0064 - mape: 4.4309 - val_loss: 0.0072 - val_mae: 0.0072 - val_mape: 3.1477\n",
      "Epoch 20/20\n",
      "\u001b[1m2649/2653\u001b[0m \u001b[32m━━━━━━━━━━━━━━━━━━━\u001b[0m\u001b[37m━\u001b[0m \u001b[1m0s\u001b[0m 6ms/step - loss: 0.0064 - mae: 0.0064 - mape: 19.4858\n",
      "Epoch 20: val_loss did not improve from 0.00611\n",
      "\u001b[1m2653/2653\u001b[0m \u001b[32m━━━━━━━━━━━━━━━━━━━━\u001b[0m\u001b[37m\u001b[0m \u001b[1m18s\u001b[0m 7ms/step - loss: 0.0064 - mae: 0.0064 - mape: 19.5996 - val_loss: 0.0066 - val_mae: 0.0066 - val_mape: 2.7374\n"
     ]
    }
   ],
   "source": [
    "epochs = 20\n",
    "verbose = 1 #0\n",
    "batch_size = 32\n",
    "History = model.fit(train_X,\n",
    "                        train_y,\n",
    "                        batch_size=batch_size,   \n",
    "                        epochs = epochs, \n",
    "                        validation_data = (validation_X,validation_y),\n",
    "                        callbacks=callbacks,\n",
    "                        verbose = verbose)"
   ]
  },
  {
   "cell_type": "code",
   "execution_count": null,
   "metadata": {},
   "outputs": [
    {
     "name": "stderr",
     "output_type": "stream",
     "text": [
      "WARNING:absl:Compiled the loaded model, but the compiled metrics have yet to be built. `model.compile_metrics` will be empty until you train or evaluate the model.\n"
     ]
    },
    {
     "name": "stdout",
     "output_type": "stream",
     "text": [
      "\u001b[1m379/379\u001b[0m \u001b[32m━━━━━━━━━━━━━━━━━━━━\u001b[0m\u001b[37m\u001b[0m \u001b[1m0s\u001b[0m 789us/step\n",
      "Mean Absolute Error (MAE): 161.9\n",
      "Median Absolute Error (MedAE): 135.89\n",
      "Mean Squared Error (MSE): 42708.55\n",
      "Root Mean Squared Error (RMSE): 206.66\n",
      "Mean Absolute Percentage Error (MAPE): 1.11 %\n",
      "Median Absolute Percentage Error (MDAPE): 0.94 %\n",
      "\n",
      "\n",
      "y_test_unscaled.shape=  (12105, 1)\n",
      "y_pred.shape=  (12105, 1)\n"
     ]
    }
   ],
   "source": [
    "model = load_model(r'C:\\Users\\Talha Ali\\Desktop\\machine learning labs\\lab7\\E1-cp-0059-loss0.01.h5',custom_objects={'mae': mean_absolute_error})\n",
    "\n",
    "\n",
    "y_pred_scaled   = model.predict(test_X)\n",
    "y_pred          = scaler.inverse_transform(y_pred_scaled)\n",
    "y_test_unscaled = scaler.inverse_transform(test_y)\n",
    "# Mean Absolute Error (MAE)\n",
    "MAE = np.mean(abs(y_pred - y_test_unscaled)) \n",
    "print('Mean Absolute Error (MAE): ' + str(np.round(MAE, 2)))\n",
    "\n",
    "# Median Absolute Error (MedAE)\n",
    "MEDAE = np.median(abs(y_pred - y_test_unscaled))\n",
    "print('Median Absolute Error (MedAE): ' + str(np.round(MEDAE, 2)))\n",
    "\n",
    "# Mean Squared Error (MSE)\n",
    "MSE = np.square(np.subtract(y_pred, y_test_unscaled)).mean()\n",
    "print('Mean Squared Error (MSE): ' + str(np.round(MSE, 2)))\n",
    "\n",
    "# Root Mean Squarred Error (RMSE) \n",
    "RMSE = np.sqrt(np.mean(np.square(y_pred - y_test_unscaled)))\n",
    "print('Root Mean Squared Error (RMSE): ' + str(np.round(RMSE, 2)))\n",
    "\n",
    "# Mean Absolute Percentage Error (MAPE)\n",
    "MAPE = np.mean((np.abs(np.subtract(y_test_unscaled, y_pred)/ y_test_unscaled))) * 100\n",
    "print('Mean Absolute Percentage Error (MAPE): ' + str(np.round(MAPE, 2)) + ' %')\n",
    "\n",
    "# Median Absolute Percentage Error (MDAPE)\n",
    "MDAPE = np.median((np.abs(np.subtract(y_test_unscaled, y_pred)/ y_test_unscaled))) * 100\n",
    "print('Median Absolute Percentage Error (MDAPE): ' + str(np.round(MDAPE, 2)) + ' %')\n",
    "\n",
    "print('\\n\\ny_test_unscaled.shape= ',y_test_unscaled.shape)\n",
    "print('y_pred.shape= ',y_pred.shape)"
   ]
  },
  {
   "cell_type": "code",
   "execution_count": null,
   "metadata": {},
   "outputs": [],
   "source": []
  }
 ],
 "metadata": {
  "kernelspec": {
   "display_name": "Python 3 (ipykernel)",
   "language": "python",
   "name": "python3"
  },
  "language_info": {
   "codemirror_mode": {
    "name": "ipython",
    "version": 3
   },
   "file_extension": ".py",
   "mimetype": "text/x-python",
   "name": "python",
   "nbconvert_exporter": "python",
   "pygments_lexer": "ipython3",
   "version": "3.12.4"
  }
 },
 "nbformat": 4,
 "nbformat_minor": 4
}
